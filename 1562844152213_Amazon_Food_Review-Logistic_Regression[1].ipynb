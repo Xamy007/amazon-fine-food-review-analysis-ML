{
 "cells": [
  {
   "cell_type": "code",
   "execution_count": 1,
   "metadata": {},
   "outputs": [
    {
     "name": "stderr",
     "output_type": "stream",
     "text": [
      "D:\\Anaconda\\lib\\site-packages\\sklearn\\cross_validation.py:41: DeprecationWarning: This module was deprecated in version 0.18 in favor of the model_selection module into which all the refactored classes and functions are moved. Also note that the interface of the new CV iterators are different from that of this module. This module will be removed in 0.20.\n",
      "  \"This module will be removed in 0.20.\", DeprecationWarning)\n"
     ]
    }
   ],
   "source": [
    "%matplotlib inline\n",
    "\n",
    "#import all the modules\n",
    "import sqlite3\n",
    "import numpy as np\n",
    "import pandas as pd\n",
    "import nltk\n",
    "import seaborn as sns\n",
    "\n",
    "from sklearn.feature_extraction.text import TfidfTransformer\n",
    "from sklearn.feature_extraction.text import TfidfVectorizer\n",
    "from sklearn.feature_extraction.text import CountVectorizer\n",
    "from sklearn.metrics import confusion_matrix,accuracy_score,precision_score,recall_score, f1_score, make_scorer\n",
    "from sklearn import metrics\n",
    "from sklearn.manifold import TSNE\n",
    "from nltk.corpus import stopwords\n",
    "from nltk.stem.porter import PorterStemmer\n",
    "from nltk.stem import SnowballStemmer\n",
    "from nltk.stem.wordnet import WordNetLemmatizer\n",
    "from sklearn.linear_model import LogisticRegression\n",
    "from sklearn.model_selection import train_test_split,GridSearchCV,RandomizedSearchCV\n",
    "from sklearn.cross_validation import cross_val_score\n",
    "from collections import Counter\n",
    "from sklearn import cross_validation\n",
    "from sklearn.preprocessing import StandardScaler"
   ]
  },
  {
   "cell_type": "code",
   "execution_count": 2,
   "metadata": {
    "collapsed": true
   },
   "outputs": [],
   "source": [
    "conn2=sqlite3.connect('D:/Applied AI Course/final.sqlite')"
   ]
  },
  {
   "cell_type": "code",
   "execution_count": 3,
   "metadata": {
    "collapsed": true
   },
   "outputs": [],
   "source": [
    "label_df=pd.read_sql_query(\"\"\"SELECT * FROM REVIEWS\"\"\",conn2)"
   ]
  },
  {
   "cell_type": "code",
   "execution_count": 4,
   "metadata": {},
   "outputs": [
    {
     "data": {
      "text/html": [
       "<div>\n",
       "<style scoped>\n",
       "    .dataframe tbody tr th:only-of-type {\n",
       "        vertical-align: middle;\n",
       "    }\n",
       "\n",
       "    .dataframe tbody tr th {\n",
       "        vertical-align: top;\n",
       "    }\n",
       "\n",
       "    .dataframe thead th {\n",
       "        text-align: right;\n",
       "    }\n",
       "</style>\n",
       "<table border=\"1\" class=\"dataframe\">\n",
       "  <thead>\n",
       "    <tr style=\"text-align: right;\">\n",
       "      <th></th>\n",
       "      <th>index</th>\n",
       "      <th>Id</th>\n",
       "      <th>ProductId</th>\n",
       "      <th>UserId</th>\n",
       "      <th>ProfileName</th>\n",
       "      <th>HelpfulnessNumerator</th>\n",
       "      <th>HelpfulnessDenominator</th>\n",
       "      <th>Score</th>\n",
       "      <th>Time</th>\n",
       "      <th>Summary</th>\n",
       "      <th>Text</th>\n",
       "      <th>CleanedText</th>\n",
       "    </tr>\n",
       "  </thead>\n",
       "  <tbody>\n",
       "    <tr>\n",
       "      <th>0</th>\n",
       "      <td>138706</td>\n",
       "      <td>150524</td>\n",
       "      <td>0006641040</td>\n",
       "      <td>ACITT7DI6IDDL</td>\n",
       "      <td>shari zychinski</td>\n",
       "      <td>0</td>\n",
       "      <td>0</td>\n",
       "      <td>Positive</td>\n",
       "      <td>939340800</td>\n",
       "      <td>EVERY book is educational</td>\n",
       "      <td>this witty little book makes my son laugh at l...</td>\n",
       "      <td>witti littl book make son laugh loud recit car...</td>\n",
       "    </tr>\n",
       "    <tr>\n",
       "      <th>1</th>\n",
       "      <td>138688</td>\n",
       "      <td>150506</td>\n",
       "      <td>0006641040</td>\n",
       "      <td>A2IW4PEEKO2R0U</td>\n",
       "      <td>Tracy</td>\n",
       "      <td>1</td>\n",
       "      <td>1</td>\n",
       "      <td>Positive</td>\n",
       "      <td>1194739200</td>\n",
       "      <td>Love the book, miss the hard cover version</td>\n",
       "      <td>I grew up reading these Sendak books, and watc...</td>\n",
       "      <td>grew read sendak book watch realli rosi movi i...</td>\n",
       "    </tr>\n",
       "    <tr>\n",
       "      <th>2</th>\n",
       "      <td>138689</td>\n",
       "      <td>150507</td>\n",
       "      <td>0006641040</td>\n",
       "      <td>A1S4A3IQ2MU7V4</td>\n",
       "      <td>sally sue \"sally sue\"</td>\n",
       "      <td>1</td>\n",
       "      <td>1</td>\n",
       "      <td>Positive</td>\n",
       "      <td>1191456000</td>\n",
       "      <td>chicken soup with rice months</td>\n",
       "      <td>This is a fun way for children to learn their ...</td>\n",
       "      <td>fun way children learn month year learn poem t...</td>\n",
       "    </tr>\n",
       "    <tr>\n",
       "      <th>3</th>\n",
       "      <td>138690</td>\n",
       "      <td>150508</td>\n",
       "      <td>0006641040</td>\n",
       "      <td>AZGXZ2UUK6X</td>\n",
       "      <td>Catherine Hallberg \"(Kate)\"</td>\n",
       "      <td>1</td>\n",
       "      <td>1</td>\n",
       "      <td>Positive</td>\n",
       "      <td>1076025600</td>\n",
       "      <td>a good swingy rhythm for reading aloud</td>\n",
       "      <td>This is a great little book to read aloud- it ...</td>\n",
       "      <td>great littl book read nice rhythm well good re...</td>\n",
       "    </tr>\n",
       "  </tbody>\n",
       "</table>\n",
       "</div>"
      ],
      "text/plain": [
       "    index      Id   ProductId          UserId                  ProfileName  \\\n",
       "0  138706  150524  0006641040   ACITT7DI6IDDL              shari zychinski   \n",
       "1  138688  150506  0006641040  A2IW4PEEKO2R0U                        Tracy   \n",
       "2  138689  150507  0006641040  A1S4A3IQ2MU7V4        sally sue \"sally sue\"   \n",
       "3  138690  150508  0006641040     AZGXZ2UUK6X  Catherine Hallberg \"(Kate)\"   \n",
       "\n",
       "   HelpfulnessNumerator  HelpfulnessDenominator     Score        Time  \\\n",
       "0                     0                       0  Positive   939340800   \n",
       "1                     1                       1  Positive  1194739200   \n",
       "2                     1                       1  Positive  1191456000   \n",
       "3                     1                       1  Positive  1076025600   \n",
       "\n",
       "                                      Summary  \\\n",
       "0                   EVERY book is educational   \n",
       "1  Love the book, miss the hard cover version   \n",
       "2               chicken soup with rice months   \n",
       "3      a good swingy rhythm for reading aloud   \n",
       "\n",
       "                                                Text  \\\n",
       "0  this witty little book makes my son laugh at l...   \n",
       "1  I grew up reading these Sendak books, and watc...   \n",
       "2  This is a fun way for children to learn their ...   \n",
       "3  This is a great little book to read aloud- it ...   \n",
       "\n",
       "                                         CleanedText  \n",
       "0  witti littl book make son laugh loud recit car...  \n",
       "1  grew read sendak book watch realli rosi movi i...  \n",
       "2  fun way children learn month year learn poem t...  \n",
       "3  great littl book read nice rhythm well good re...  "
      ]
     },
     "execution_count": 4,
     "metadata": {},
     "output_type": "execute_result"
    }
   ],
   "source": [
    "label_df.head(4)"
   ]
  },
  {
   "cell_type": "code",
   "execution_count": 5,
   "metadata": {
    "collapsed": true
   },
   "outputs": [],
   "source": [
    "label_df=label_df.sort_values('Time',axis=0,inplace=False,kind='quicksort')"
   ]
  },
  {
   "cell_type": "code",
   "execution_count": 6,
   "metadata": {},
   "outputs": [
    {
     "data": {
      "text/plain": [
       "(100000, 12)"
      ]
     },
     "execution_count": 6,
     "metadata": {},
     "output_type": "execute_result"
    }
   ],
   "source": [
    "d_pos=label_df[label_df[\"Score\"] == 'Positive'].sample(n=50000)\n",
    "d_neg=label_df[label_df[\"Score\"] == 'Negative'].sample(n=50000)\n",
    "finald=pd.concat([d_pos,d_neg])\n",
    "finald.shape"
   ]
  },
  {
   "cell_type": "code",
   "execution_count": 7,
   "metadata": {},
   "outputs": [
    {
     "data": {
      "text/html": [
       "<div>\n",
       "<style scoped>\n",
       "    .dataframe tbody tr th:only-of-type {\n",
       "        vertical-align: middle;\n",
       "    }\n",
       "\n",
       "    .dataframe tbody tr th {\n",
       "        vertical-align: top;\n",
       "    }\n",
       "\n",
       "    .dataframe thead th {\n",
       "        text-align: right;\n",
       "    }\n",
       "</style>\n",
       "<table border=\"1\" class=\"dataframe\">\n",
       "  <thead>\n",
       "    <tr style=\"text-align: right;\">\n",
       "      <th></th>\n",
       "      <th>index</th>\n",
       "      <th>Id</th>\n",
       "      <th>ProductId</th>\n",
       "      <th>UserId</th>\n",
       "      <th>ProfileName</th>\n",
       "      <th>HelpfulnessNumerator</th>\n",
       "      <th>HelpfulnessDenominator</th>\n",
       "      <th>Score</th>\n",
       "      <th>Time</th>\n",
       "      <th>Summary</th>\n",
       "      <th>Text</th>\n",
       "      <th>CleanedText</th>\n",
       "    </tr>\n",
       "  </thead>\n",
       "  <tbody>\n",
       "    <tr>\n",
       "      <th>0</th>\n",
       "      <td>138706</td>\n",
       "      <td>150524</td>\n",
       "      <td>0006641040</td>\n",
       "      <td>ACITT7DI6IDDL</td>\n",
       "      <td>shari zychinski</td>\n",
       "      <td>0</td>\n",
       "      <td>0</td>\n",
       "      <td>Positive</td>\n",
       "      <td>939340800</td>\n",
       "      <td>EVERY book is educational</td>\n",
       "      <td>this witty little book makes my son laugh at l...</td>\n",
       "      <td>witti littl book make son laugh loud recit car...</td>\n",
       "    </tr>\n",
       "    <tr>\n",
       "      <th>308</th>\n",
       "      <td>346041</td>\n",
       "      <td>374343</td>\n",
       "      <td>B00004CI84</td>\n",
       "      <td>A1B2IZU1JLZA6</td>\n",
       "      <td>Wes</td>\n",
       "      <td>19</td>\n",
       "      <td>23</td>\n",
       "      <td>Negative</td>\n",
       "      <td>948240000</td>\n",
       "      <td>WARNING: CLAMSHELL EDITION IS EDITED TV VERSION</td>\n",
       "      <td>I, myself always enjoyed this movie, it's very...</td>\n",
       "      <td>alway enjoy movi funni entertain didnt hesit p...</td>\n",
       "    </tr>\n",
       "    <tr>\n",
       "      <th>868</th>\n",
       "      <td>138017</td>\n",
       "      <td>149789</td>\n",
       "      <td>B00004S1C6</td>\n",
       "      <td>A1KXONFPU2XQ5K</td>\n",
       "      <td>Stephanie Manley</td>\n",
       "      <td>26</td>\n",
       "      <td>28</td>\n",
       "      <td>Positive</td>\n",
       "      <td>965779200</td>\n",
       "      <td>A must have!</td>\n",
       "      <td>These are easy to use, they do not make a mess...</td>\n",
       "      <td>easi use make mess offer vibrant color taint d...</td>\n",
       "    </tr>\n",
       "  </tbody>\n",
       "</table>\n",
       "</div>"
      ],
      "text/plain": [
       "      index      Id   ProductId          UserId       ProfileName  \\\n",
       "0    138706  150524  0006641040   ACITT7DI6IDDL   shari zychinski   \n",
       "308  346041  374343  B00004CI84   A1B2IZU1JLZA6               Wes   \n",
       "868  138017  149789  B00004S1C6  A1KXONFPU2XQ5K  Stephanie Manley   \n",
       "\n",
       "     HelpfulnessNumerator  HelpfulnessDenominator     Score       Time  \\\n",
       "0                       0                       0  Positive  939340800   \n",
       "308                    19                      23  Negative  948240000   \n",
       "868                    26                      28  Positive  965779200   \n",
       "\n",
       "                                             Summary  \\\n",
       "0                          EVERY book is educational   \n",
       "308  WARNING: CLAMSHELL EDITION IS EDITED TV VERSION   \n",
       "868                                     A must have!   \n",
       "\n",
       "                                                  Text  \\\n",
       "0    this witty little book makes my son laugh at l...   \n",
       "308  I, myself always enjoyed this movie, it's very...   \n",
       "868  These are easy to use, they do not make a mess...   \n",
       "\n",
       "                                           CleanedText  \n",
       "0    witti littl book make son laugh loud recit car...  \n",
       "308  alway enjoy movi funni entertain didnt hesit p...  \n",
       "868  easi use make mess offer vibrant color taint d...  "
      ]
     },
     "execution_count": 7,
     "metadata": {},
     "output_type": "execute_result"
    }
   ],
   "source": [
    "finald.head(2)\n",
    "final_d=finald.sort_values(by='Time')\n",
    "final_d.head(3)"
   ]
  },
  {
   "cell_type": "markdown",
   "metadata": {},
   "source": [
    "# BagOfWords "
   ]
  },
  {
   "cell_type": "code",
   "execution_count": 8,
   "metadata": {},
   "outputs": [
    {
     "data": {
      "text/plain": [
       "(100000,)"
      ]
     },
     "execution_count": 8,
     "metadata": {},
     "output_type": "execute_result"
    }
   ],
   "source": [
    "X=final_d[\"CleanedText\"]\n",
    "X.shape"
   ]
  },
  {
   "cell_type": "code",
   "execution_count": 9,
   "metadata": {},
   "outputs": [
    {
     "data": {
      "text/plain": [
       "(100000,)"
      ]
     },
     "execution_count": 9,
     "metadata": {},
     "output_type": "execute_result"
    }
   ],
   "source": [
    "y=final_d[\"Score\"]\n",
    "y.shape"
   ]
  },
  {
   "cell_type": "code",
   "execution_count": 10,
   "metadata": {
    "collapsed": true
   },
   "outputs": [],
   "source": [
    "#split the data into train and test fo bag of words\n",
    "\n",
    "X_train,X_test,Y_train,Y_test=train_test_split(X,y,test_size=0.3,random_state=None,shuffle=False)\n",
    "#split train into cross val train and cross val test\n",
    "X_t,X_cv,Y_t,Y_cv=train_test_split(X_train,Y_train,test_size=0.3,shuffle=False)"
   ]
  },
  {
   "cell_type": "code",
   "execution_count": 11,
   "metadata": {},
   "outputs": [
    {
     "name": "stdout",
     "output_type": "stream",
     "text": [
      "(70000,) (30000,) (70000,) (30000,)\n"
     ]
    }
   ],
   "source": [
    "print(X_train.shape,X_test.shape,Y_train.shape,Y_test.shape)"
   ]
  },
  {
   "cell_type": "code",
   "execution_count": 12,
   "metadata": {
    "collapsed": true
   },
   "outputs": [],
   "source": [
    "#Bag of Words\n",
    "BoW=CountVectorizer()\n",
    "X_train=BoW.fit_transform(X_train)\n",
    "#X_train=StandardScaler(with_mean=False).fit_transform(X_train)\n",
    "x_test=BoW.transform(X_test)"
   ]
  },
  {
   "cell_type": "code",
   "execution_count": 13,
   "metadata": {},
   "outputs": [
    {
     "name": "stdout",
     "output_type": "stream",
     "text": [
      "(70000, 44575) (30000, 44575)\n"
     ]
    }
   ],
   "source": [
    "from sklearn import preprocessing\n",
    "X_train=preprocessing.normalize(X_train)\n",
    "X_test=preprocessing.normalize(x_test)\n",
    "\n",
    "print(X_train.shape, X_test.shape)"
   ]
  },
  {
   "cell_type": "code",
   "execution_count": 14,
   "metadata": {
    "collapsed": true
   },
   "outputs": [],
   "source": [
    "#X_train=StandardScaler(with_mean=False).fit_transform(X_train)\n",
    "#X_test=StandardScaler(with_mean=False).fit(X_train).transform(x_test)"
   ]
  },
  {
   "cell_type": "code",
   "execution_count": 15,
   "metadata": {},
   "outputs": [
    {
     "name": "stdout",
     "output_type": "stream",
     "text": [
      "(70000, 44575) (30000, 44575)\n"
     ]
    }
   ],
   "source": [
    "print(X_train.shape,X_test.shape)"
   ]
  },
  {
   "cell_type": "raw",
   "metadata": {},
   "source": [
    "Using time series splitting"
   ]
  },
  {
   "cell_type": "code",
   "execution_count": 16,
   "metadata": {},
   "outputs": [
    {
     "name": "stdout",
     "output_type": "stream",
     "text": [
      "(6370, 44575) (6363, 44575)\n",
      "(12733, 44575) (6363, 44575)\n",
      "(19096, 44575) (6363, 44575)\n",
      "(25459, 44575) (6363, 44575)\n",
      "(31822, 44575) (6363, 44575)\n",
      "(38185, 44575) (6363, 44575)\n",
      "(44548, 44575) (6363, 44575)\n",
      "(50911, 44575) (6363, 44575)\n",
      "(57274, 44575) (6363, 44575)\n",
      "(63637, 44575) (6363, 44575)\n"
     ]
    }
   ],
   "source": [
    "from sklearn.model_selection import TimeSeriesSplit\n",
    "\n",
    "tcv=TimeSeriesSplit(n_splits=10)\n",
    "for train,cv in tcv.split(X_train):\n",
    "    print(X_train[train].shape,X_train[cv].shape)"
   ]
  },
  {
   "cell_type": "markdown",
   "metadata": {},
   "source": [
    "## Find the best hyperparameter C or 1/Lambda and regulariser[L1,L2] using cross validation "
   ]
  },
  {
   "cell_type": "code",
   "execution_count": 17,
   "metadata": {
    "collapsed": true
   },
   "outputs": [],
   "source": [
    "import pickle\n",
    "def savetofile(obj,filename):\n",
    "    pickle.dump(obj,open(filename+\".p\",\"wb\"))\n"
   ]
  },
  {
   "cell_type": "code",
   "execution_count": 18,
   "metadata": {
    "collapsed": true
   },
   "outputs": [],
   "source": [
    "def openfromfile(filename):\n",
    "    temp = pickle.load(open(filename+\".p\",\"rb\"))\n",
    "    return temp"
   ]
  },
  {
   "cell_type": "markdown",
   "metadata": {},
   "source": [
    "# GridSearch Cross validation"
   ]
  },
  {
   "cell_type": "code",
   "execution_count": 19,
   "metadata": {},
   "outputs": [
    {
     "name": "stdout",
     "output_type": "stream",
     "text": [
      "Fitting 10 folds for each of 30 candidates, totalling 300 fits\n"
     ]
    },
    {
     "name": "stderr",
     "output_type": "stream",
     "text": [
      "[Parallel(n_jobs=1)]: Done 300 out of 300 | elapsed: 10.4min finished\n"
     ]
    },
    {
     "name": "stdout",
     "output_type": "stream",
     "text": [
      "Best HyperParameter:  {'C': 5, 'penalty': 'l2'}\n",
      "Best Accuracy: 86.88%\n"
     ]
    }
   ],
   "source": [
    "cls=LogisticRegression()\n",
    "param_grid={'C':[1000,500,100,50,10,5,1,0.5,0.1,0.05,0.01,0.005,0.001,0.0005,0.00001],\n",
    "           'penalty':['l1','l2']}\n",
    "tcv=TimeSeriesSplit(n_splits=10)\n",
    "gcv=GridSearchCV(cls,param_grid,cv=tcv,verbose=1)\n",
    "gcv.fit(X_train,Y_train)\n",
    "savetofile(gcv,\"D:/Applied AI Course/gcv_uni\")\n",
    "print(\"Best HyperParameter: \",gcv.best_params_)\n",
    "print(\"Best Accuracy: %.2f%%\"%(gcv.best_score_*100))"
   ]
  },
  {
   "cell_type": "code",
   "execution_count": 20,
   "metadata": {
    "collapsed": true
   },
   "outputs": [],
   "source": [
    "savetofile(gcv,\"D:/Applied AI Course/gcv_uni\")"
   ]
  },
  {
   "cell_type": "code",
   "execution_count": 21,
   "metadata": {
    "collapsed": true
   },
   "outputs": [],
   "source": [
    "import matplotlib.pyplot as plt"
   ]
  },
  {
   "cell_type": "code",
   "execution_count": 22,
   "metadata": {
    "collapsed": true
   },
   "outputs": [],
   "source": [
    " def plot_error_vs_c(gcv):\n",
    "    x1=[]\n",
    "    y1=[]\n",
    "    x2=[]\n",
    "    y2=[]\n",
    "    for a in gcv.grid_scores_:\n",
    "        if (a[0]['penalty']) =='l1':\n",
    "            y1.append(1-a[1])\n",
    "            x1.append(a[0]['C'])\n",
    "        else:\n",
    "            y2.append(1-a[1])\n",
    "            x2.append(a[0]['C'])\n",
    "    plt.xlim(5,1010)\n",
    "    plt.ylim(0,0.5)\n",
    "    plt.xlabel(\"C\",fontsize=15)\n",
    "    plt.ylabel(\"Misclassification Error\")\n",
    "    plt.title('Misclassification Error v/s C')\n",
    "    plt.plot(x1,y1,'b',label=\"L1\")\n",
    "    plt.plot(x2,y2,'r',label=\"L2\")\n",
    "    plt.legend()\n",
    "    plt.show()\n",
    "\n",
    "\n",
    "\n",
    "\n",
    "    "
   ]
  },
  {
   "cell_type": "code",
   "execution_count": 23,
   "metadata": {},
   "outputs": [
    {
     "name": "stderr",
     "output_type": "stream",
     "text": [
      "D:\\Anaconda\\lib\\site-packages\\sklearn\\model_selection\\_search.py:762: DeprecationWarning: The grid_scores_ attribute was deprecated in version 0.18 in favor of the more elaborate cv_results_ attribute. The grid_scores_ attribute will not be available from 0.20\n",
      "  DeprecationWarning)\n"
     ]
    },
    {
     "data": {
      "image/png": "[encoded data removed]",
      "text/plain": [
       "<Figure size 432x288 with 1 Axes>"
      ]
     },
     "metadata": {},
     "output_type": "display_data"
    }
   ],
   "source": [
    "gcv = openfromfile(\"D:/Applied AI Course/gcv_uni\")\n",
    "plot_error_vs_c(gcv)"
   ]
  },
  {
   "cell_type": "code",
   "execution_count": 25,
   "metadata": {},
   "outputs": [
    {
     "name": "stdout",
     "output_type": "stream",
     "text": [
      "Accuracy on test set: 87.837%\n",
      "Non Zero weights: 44575\n"
     ]
    }
   ],
   "source": [
    "clf=LogisticRegression(C=5,penalty='l2')\n",
    "clf.fit(X_train,Y_train)\n",
    "y_pred=clf.predict(X_test)\n",
    "print(\"Accuracy on test set: %0.3f%%\"%(accuracy_score(Y_test, y_pred)*100))\n",
    "print(\"Non Zero weights:\",np.count_nonzero(clf.coef_))\n",
    "training_accuracy = clf.score(X_train, Y_train)\n",
    "training_error = 1 - training_accuracy\n",
    "test_accuracy = accuracy_score(Y_test, y_pred)\n",
    "test_error = 1 - test_accuracy"
   ]
  },
  {
   "cell_type": "markdown",
   "metadata": {},
   "source": [
    "# sparsity increase with change in C and lambda hyperparameters"
   ]
  },
  {
   "cell_type": "code",
   "execution_count": 26,
   "metadata": {},
   "outputs": [
    {
     "name": "stdout",
     "output_type": "stream",
     "text": [
      "Accuracy on test set: 81.333%\n",
      "F1-Score on test set: 80.036%\n",
      "Non Zero weights: 22543\n"
     ]
    }
   ],
   "source": [
    "from sklearn.linear_model import LogisticRegression\n",
    "\n",
    "clf = LogisticRegression(C= 1000, penalty= 'l1')\n",
    "clf.fit(X_train,Y_train)\n",
    "prediction = clf.predict(X_test)\n",
    "precision_scorer = make_scorer(precision_score, pos_label='Positive')\n",
    "recall_scorer=make_scorer(recall_score, pos_label='Positive')\n",
    "precision = cross_val_score(clf, X_train, Y_train, cv=3, scoring=precision_scorer)\n",
    "recall=cross_val_score(clf, X_train, Y_train, cv=3, scoring=recall_scorer)\n",
    "precision=np.mean(precision)\n",
    "recall=np.mean(recall)\n",
    "f1_score= 2 * (precision * recall) / (precision + recall)\n",
    "print(\"Accuracy on test set: %0.3f%%\"%(accuracy_score(Y_test, prediction)*100))\n",
    "print(\"F1-Score on test set: %0.3f%%\"%(f1_score * 100))\n",
    "print(\"Non Zero weights:\",np.count_nonzero(clf.coef_))"
   ]
  },
  {
   "cell_type": "code",
   "execution_count": 27,
   "metadata": {},
   "outputs": [
    {
     "name": "stdout",
     "output_type": "stream",
     "text": [
      "Accuracy on test set: 81.327%\n",
      "F1-Score on test set: 78.768%\n",
      "Non Zero weights: 22541\n"
     ]
    }
   ],
   "source": [
    "from sklearn.linear_model import LogisticRegression\n",
    "\n",
    "clf = LogisticRegression(C= 1000, penalty= 'l1')\n",
    "clf.fit(X_train,Y_train)\n",
    "prediction = clf.predict(X_test)\n",
    "precision_scorer = make_scorer(precision_score, pos_label='Negative')\n",
    "recall_scorer=make_scorer(recall_score, pos_label='Negative')\n",
    "precision = cross_val_score(clf, X_train, Y_train, cv=3, scoring=precision_scorer)\n",
    "recall=cross_val_score(clf, X_train, Y_train, cv=3, scoring=recall_scorer)\n",
    "precision=np.mean(precision)\n",
    "recall=np.mean(recall)\n",
    "f1_score= 2 * (precision * recall) / (precision + recall)\n",
    "print(\"Accuracy on test set: %0.3f%%\"%(accuracy_score(Y_test, prediction)*100))\n",
    "print(\"F1-Score on test set: %0.3f%%\"%(f1_score * 100))\n",
    "print(\"Non Zero weights:\",np.count_nonzero(clf.coef_))"
   ]
  },
  {
   "cell_type": "code",
   "execution_count": 28,
   "metadata": {},
   "outputs": [
    {
     "name": "stdout",
     "output_type": "stream",
     "text": [
      "Accuracy on test set: 84.067%\n",
      "F1-Score on test set: 83.877\n",
      "Non Zero weights: 16687\n"
     ]
    }
   ],
   "source": [
    "from sklearn.linear_model import LogisticRegression\n",
    "\n",
    "clf = LogisticRegression(C= 100, penalty= 'l1')\n",
    "clf.fit(X_train,Y_train)\n",
    "prediction = clf.predict(X_test)\n",
    "precision_scorer = make_scorer(precision_score, pos_label='Positive')\n",
    "recall_scorer=make_scorer(recall_score, pos_label='Positive')\n",
    "precision = cross_val_score(clf, X_train, Y_train, cv=3, scoring=precision_scorer)\n",
    "recall=cross_val_score(clf, X_train, Y_train, cv=3, scoring=recall_scorer)\n",
    "precision=np.mean(precision)\n",
    "recall=np.mean(recall)\n",
    "f1_score= 2 * (precision * recall) / (precision + recall)\n",
    "print(\"Accuracy on test set: %0.3f%%\"%(accuracy_score(Y_test, prediction)*100))\n",
    "print(\"F1-Score on test set: %0.3f\"%(f1_score * 100))\n",
    "print(\"Non Zero weights:\",np.count_nonzero(clf.coef_))"
   ]
  },
  {
   "cell_type": "code",
   "execution_count": 29,
   "metadata": {},
   "outputs": [
    {
     "name": "stdout",
     "output_type": "stream",
     "text": [
      "Accuracy on test set: 84.073%\n",
      "F1-Score on test set: 82.826\n",
      "Non Zero weights: 16691\n"
     ]
    }
   ],
   "source": [
    "from sklearn.linear_model import LogisticRegression\n",
    "\n",
    "clf = LogisticRegression(C= 100, penalty= 'l1')\n",
    "clf.fit(X_train,Y_train)\n",
    "prediction = clf.predict(X_test)\n",
    "precision_scorer = make_scorer(precision_score, pos_label='Negative')\n",
    "recall_scorer=make_scorer(recall_score, pos_label='Negative')\n",
    "precision = cross_val_score(clf, X_train, Y_train, cv=3, scoring=precision_scorer)\n",
    "recall=cross_val_score(clf, X_train, Y_train, cv=3, scoring=recall_scorer)\n",
    "precision=np.mean(precision)\n",
    "recall=np.mean(recall)\n",
    "f1_score= 2 * (precision * recall) / (precision + recall)\n",
    "print(\"Accuracy on test set: %0.3f%%\"%(accuracy_score(Y_test, prediction)*100))\n",
    "print(\"F1-Score on test set: %0.3f\"%(f1_score * 100))\n",
    "print(\"Non Zero weights:\",np.count_nonzero(clf.coef_))"
   ]
  },
  {
   "cell_type": "code",
   "execution_count": 30,
   "metadata": {},
   "outputs": [
    {
     "name": "stdout",
     "output_type": "stream",
     "text": [
      "Accuracy on test set: 87.070%\n",
      "F1-Score on test set: 87.000%\n",
      "Non Zero weights: 7331\n"
     ]
    }
   ],
   "source": [
    "from sklearn.linear_model import LogisticRegression\n",
    "\n",
    "clf = LogisticRegression(C= 10, penalty= 'l1')\n",
    "clf.fit(X_train,Y_train)\n",
    "prediction = clf.predict(X_test)\n",
    "precision_scorer = make_scorer(precision_score, pos_label='Positive')\n",
    "recall_scorer=make_scorer(recall_score, pos_label='Positive')\n",
    "precision = cross_val_score(clf, X_train, Y_train, cv=3, scoring=precision_scorer)\n",
    "recall=cross_val_score(clf, X_train, Y_train, cv=3, scoring=recall_scorer)\n",
    "precision=np.mean(precision)\n",
    "recall=np.mean(recall)\n",
    "f1_score= 2 * (precision * recall) / (precision + recall)\n",
    "print(\"Accuracy on test set: %0.3f%%\"%(accuracy_score(Y_test, prediction)*100))\n",
    "print(\"F1-Score on test set: %0.3f%%\"%(f1_score * 100))\n",
    "print(\"Non Zero weights:\",np.count_nonzero(clf.coef_))"
   ]
  },
  {
   "cell_type": "code",
   "execution_count": 31,
   "metadata": {},
   "outputs": [
    {
     "name": "stdout",
     "output_type": "stream",
     "text": [
      "Accuracy on test set: 87.780%\n",
      "F1-Score on test set: 87.374\n",
      "Non Zero weights: 1454\n"
     ]
    }
   ],
   "source": [
    "from sklearn.linear_model import LogisticRegression\n",
    "\n",
    "clf = LogisticRegression(C= 1, penalty= 'l1')\n",
    "clf.fit(X_train,Y_train)\n",
    "prediction = clf.predict(X_test)\n",
    "precision_scorer = make_scorer(precision_score, pos_label='Positive')\n",
    "recall_scorer=make_scorer(recall_score, pos_label='Positive')\n",
    "precision = cross_val_score(clf, X_train, Y_train, cv=3, scoring=precision_scorer)\n",
    "recall=cross_val_score(clf, X_train, Y_train, cv=3, scoring=recall_scorer)\n",
    "precision=np.mean(precision)\n",
    "recall=np.mean(recall)\n",
    "f1_score= 2 * (precision * recall) / (precision + recall)\n",
    "print(\"Accuracy on test set: %0.3f%%\"%(accuracy_score(Y_test, prediction)*100))\n",
    "print(\"F1-Score on test set: %0.3f\"%(f1_score * 100))\n",
    "print(\"Non Zero weights:\",np.count_nonzero(clf.coef_))"
   ]
  },
  {
   "cell_type": "code",
   "execution_count": 32,
   "metadata": {},
   "outputs": [
    {
     "name": "stdout",
     "output_type": "stream",
     "text": [
      "Accuracy on test set: 84.700%\n",
      "F1-Score on test set: 83.391\n",
      "Non Zero weights: 318\n"
     ]
    }
   ],
   "source": [
    "from sklearn.linear_model import LogisticRegression\n",
    "\n",
    "clf = LogisticRegression(C= 0.1, penalty= 'l1')\n",
    "clf.fit(X_train,Y_train)\n",
    "prediction = clf.predict(X_test)\n",
    "precision_scorer = make_scorer(precision_score, pos_label='Positive')\n",
    "recall_scorer=make_scorer(recall_score, pos_label='Positive')\n",
    "precision = cross_val_score(clf, X_train, Y_train, cv=3, scoring=precision_scorer)\n",
    "recall=cross_val_score(clf, X_train, Y_train, cv=3, scoring=recall_scorer)\n",
    "precision=np.mean(precision)\n",
    "recall=np.mean(recall)\n",
    "f1_score= 2 * (precision * recall) / (precision + recall)\n",
    "print(\"Accuracy on test set: %0.3f%%\"%(accuracy_score(Y_test, prediction)*100))\n",
    "print(\"F1-Score on test set: %0.3f\"%(f1_score * 100))\n",
    "print(\"Non Zero weights:\",np.count_nonzero(clf.coef_))"
   ]
  },
  {
   "cell_type": "markdown",
   "metadata": {},
   "source": [
    "Conclusion\n",
    "\n",
    "From running the above with L1 regularisation and decreasing value of C from 1000 to 0.1 the non zero weights has reduced from 44000 to around 313, this shows that there's an increase in zero weights which means sparsity has increased"
   ]
  },
  {
   "cell_type": "markdown",
   "metadata": {},
   "source": [
    "# Perturbation test"
   ]
  },
  {
   "cell_type": "code",
   "execution_count": 33,
   "metadata": {},
   "outputs": [
    {
     "name": "stdout",
     "output_type": "stream",
     "text": [
      "Accuracy on test set: 87.837%\n",
      "Non Zero weights: 44575\n"
     ]
    }
   ],
   "source": [
    "clf=LogisticRegression(C=5, penalty='l2')\n",
    "clf.fit(X_train, Y_train)\n",
    "pred=clf.predict(X_test)\n",
    "print(\"Accuracy on test set: %0.3f%%\"%(accuracy_score(Y_test, pred)*100))\n",
    "print(\"Non Zero weights:\",np.count_nonzero(clf.coef_))"
   ]
  },
  {
   "cell_type": "code",
   "execution_count": 34,
   "metadata": {},
   "outputs": [
    {
     "name": "stdout",
     "output_type": "stream",
     "text": [
      "[-6.45134706e-02  5.41449874e-01  7.92125145e-02 -6.74464807e-03\n",
      "  2.26538933e-01 -2.87203210e-01  1.30338176e-01  8.33743297e-03\n",
      "  1.43322083e-02  3.33979744e-01 -1.28928985e-02  6.01199201e-02\n",
      "  2.09165043e-02  2.00723540e-01  1.39294079e-01 -2.79966942e-01\n",
      "  1.86290352e-02 -5.90652520e-01 -2.85773858e-01 -2.97632086e-01\n",
      "  3.74291742e-03 -2.03945244e-03  1.73001721e-01  1.22455967e-01\n",
      " -1.22042079e-02 -7.72171333e-02  5.76853300e-03  5.14688348e-02\n",
      " -8.39001656e-02 -4.62725193e-01  4.66164023e-01 -9.46611332e-02\n",
      " -6.42889196e-01  4.05163037e-01  1.46881796e-01  5.57823369e-04\n",
      " -2.67005543e-01  1.55694898e-01 -1.03155438e-02  1.31771031e-01\n",
      " -1.48400892e-02  7.82446682e-01 -3.85145201e-01  2.63810996e-02\n",
      " -1.07144829e-01  1.21641314e+00 -1.44685637e-01  5.90991235e-02\n",
      " -6.51015987e-01  2.96784413e-02]\n"
     ]
    }
   ],
   "source": [
    "#weights before adding noise\n",
    "from scipy.sparse import find\n",
    "#Weights before adding random noise\n",
    "weights1 = find(clf.coef_[0])[2]\n",
    "print(weights1[:50])"
   ]
  },
  {
   "cell_type": "code",
   "execution_count": 35,
   "metadata": {},
   "outputs": [
    {
     "name": "stdout",
     "output_type": "stream",
     "text": [
      "(70000, 44575)\n"
     ]
    }
   ],
   "source": [
    "#insert random noise\n",
    "X_train_t = X_train\n",
    "#Random noise\n",
    "z = np.random.uniform(low=-0.0001, high=0.0001, size=(find(X_train_t)[0].size,))\n",
    "#Getting the postions(row and column) and value of non-zero datapoints \n",
    "r,c,v = find(X_train_t)\n",
    "\n",
    "#Introducing random noise to non-zero datapoints\n",
    "X_train_t[r,c] = z + X_train_t[r,c]\n",
    "\n",
    "print(X_train_t.shape)"
   ]
  },
  {
   "cell_type": "code",
   "execution_count": 36,
   "metadata": {},
   "outputs": [
    {
     "name": "stdout",
     "output_type": "stream",
     "text": [
      "Accuracy on test set: 87.837%\n",
      "Non Zero weights: 44575\n"
     ]
    }
   ],
   "source": [
    "clf=LogisticRegression(C=5, penalty='l2')\n",
    "clf.fit(X_train_t, Y_train)\n",
    "pred=clf.predict(X_test)\n",
    "print(\"Accuracy on test set: %0.3f%%\"%(accuracy_score(Y_test, pred)*100))\n",
    "print(\"Non Zero weights:\",np.count_nonzero(clf.coef_))"
   ]
  },
  {
   "cell_type": "code",
   "execution_count": 37,
   "metadata": {},
   "outputs": [
    {
     "name": "stdout",
     "output_type": "stream",
     "text": [
      "[-6.45135869e-02  5.41533417e-01  7.91978611e-02 -6.73679994e-03\n",
      "  2.26489427e-01 -2.87243712e-01  1.30217008e-01  8.34298729e-03\n",
      "  1.43372995e-02  3.34238789e-01 -1.28726377e-02  6.02034836e-02\n",
      "  2.09045258e-02  2.00679004e-01  1.39548079e-01 -2.79572079e-01\n",
      "  1.86314924e-02 -5.90440933e-01 -2.85789881e-01 -2.98027709e-01\n",
      "  3.73849136e-03 -2.03668014e-03  1.72889422e-01  1.22465876e-01\n",
      " -1.22187053e-02 -7.70944987e-02  5.76291595e-03  5.14344490e-02\n",
      " -8.41266117e-02 -4.63111234e-01  4.66194547e-01 -9.48871992e-02\n",
      " -6.43517889e-01  4.05417256e-01  1.46793884e-01  5.50855639e-04\n",
      " -2.66850778e-01  1.55800648e-01 -1.03093333e-02  1.31840151e-01\n",
      " -1.48147619e-02  7.82278457e-01 -3.85190629e-01  2.63933841e-02\n",
      " -1.07234933e-01  1.21662519e+00 -1.44625595e-01  5.91943213e-02\n",
      " -6.51039594e-01  2.96462795e-02]\n"
     ]
    }
   ],
   "source": [
    "#weight after adding random noise\n",
    "from scipy.sparse import find\n",
    "#Weights before adding random noise\n",
    "weights2 = find(clf.coef_[0])[2]\n",
    "print(weights2[:50])"
   ]
  },
  {
   "cell_type": "code",
   "execution_count": 38,
   "metadata": {},
   "outputs": [
    {
     "name": "stdout",
     "output_type": "stream",
     "text": [
      "44575\n"
     ]
    }
   ],
   "source": [
    "print(weights2.size)"
   ]
  },
  {
   "cell_type": "code",
   "execution_count": 39,
   "metadata": {
    "collapsed": true
   },
   "outputs": [],
   "source": [
    "w_diff=(abs(weights1-weights2) / weights1) * 100"
   ]
  },
  {
   "cell_type": "code",
   "execution_count": 40,
   "metadata": {},
   "outputs": [
    {
     "name": "stdout",
     "output_type": "stream",
     "text": [
      "24\n"
     ]
    }
   ],
   "source": [
    "print(w_diff[np.where(w_diff > 30)].size)"
   ]
  },
  {
   "cell_type": "markdown",
   "metadata": {},
   "source": [
    "Conclusion\n",
    "\n",
    "19 features have their weight changes greater than 30, Hence these features are multicollinear"
   ]
  },
  {
   "cell_type": "markdown",
   "metadata": {},
   "source": [
    "# Confusion matrix"
   ]
  },
  {
   "cell_type": "code",
   "execution_count": 41,
   "metadata": {},
   "outputs": [
    {
     "data": {
      "text/plain": [
       "<matplotlib.axes._subplots.AxesSubplot at 0x24a88a58>"
      ]
     },
     "execution_count": 41,
     "metadata": {},
     "output_type": "execute_result"
    },
    {
     "data": {
      "image/png": "[encoded data removed]",
      "text/plain": [
       "<Figure size 432x288 with 2 Axes>"
      ]
     },
     "metadata": {},
     "output_type": "display_data"
    }
   ],
   "source": [
    "conf_matr_df = pd.DataFrame(confusion_matrix(Y_test, pred), range(2),range(2))\n",
    "sns.set(font_scale=1.4)#for label size\n",
    "sns.heatmap(conf_matr_df, annot=True,annot_kws={\"size\": 16}, fmt='g')"
   ]
  },
  {
   "cell_type": "code",
   "execution_count": 42,
   "metadata": {},
   "outputs": [
    {
     "name": "stdout",
     "output_type": "stream",
     "text": [
      "             precision    recall  f1-score   support\n",
      "\n",
      "   Negative       0.88      0.89      0.89     15916\n",
      "   Positive       0.87      0.87      0.87     14084\n",
      "\n",
      "avg / total       0.88      0.88      0.88     30000\n",
      "\n"
     ]
    }
   ],
   "source": [
    "from sklearn.metrics import classification_report,precision_score,recall_score\n",
    "\n",
    "print(classification_report(Y_test, pred))"
   ]
  },
  {
   "cell_type": "markdown",
   "metadata": {},
   "source": [
    "# Feature importance for BoW"
   ]
  },
  {
   "cell_type": "code",
   "execution_count": 43,
   "metadata": {
    "collapsed": true
   },
   "outputs": [],
   "source": [
    "def show_most_informative_features(vectorizer, clf, n=25):\n",
    "    feature_names = vectorizer.get_feature_names()\n",
    "    coefs_with_fns = sorted(zip(clf.coef_[0], feature_names))\n",
    "    top = zip(coefs_with_fns[:n], coefs_with_fns[:-(n + 1):-1])\n",
    "    print(\"\\t\\t\\tPositive\\t\\t\\t\\t\\t\\tNegative\")\n",
    "    print(\"________________________________________________________________________________________________\")\n",
    "    for (coef_1, fn_1), (coef_2, fn_2) in top:\n",
    "        print(\"\\t%.4f\\t%-15s\\t\\t\\t\\t%.4f\\t%-15s\" % (coef_1, fn_1, coef_2, fn_2))"
   ]
  },
  {
   "cell_type": "code",
   "execution_count": 44,
   "metadata": {},
   "outputs": [
    {
     "name": "stdout",
     "output_type": "stream",
     "text": [
      "\t\t\tPositive\t\t\t\t\t\tNegative\n",
      "________________________________________________________________________________________________\n",
      "\t-13.1158\tworst          \t\t\t\t9.3084\tperfect        \n",
      "\t-10.7616\taw             \t\t\t\t9.1442\tdelici         \n",
      "\t-10.2469\thorribl        \t\t\t\t8.8488\thook           \n",
      "\t-9.6490\tterribl        \t\t\t\t8.4955\texcel          \n",
      "\t-9.3599\tunfortun       \t\t\t\t8.4485\tamaz           \n",
      "\t-9.2762\ttasteless      \t\t\t\t8.3076\tskeptic        \n",
      "\t-8.4395\tsad            \t\t\t\t7.7945\taddict         \n",
      "\t-8.3974\tdisappoint     \t\t\t\t7.4624\tbeat           \n",
      "\t-8.3745\tcancel         \t\t\t\t7.3647\tbest           \n",
      "\t-8.3489\treturn         \t\t\t\t7.2386\tawesom         \n",
      "\t-8.3343\twors           \t\t\t\t7.0659\tgreat          \n",
      "\t-8.2261\tyuck           \t\t\t\t7.0623\tfantast        \n",
      "\t-8.0214\tthrew          \t\t\t\t6.8488\tsatisfi        \n",
      "\t-7.9818\tstale          \t\t\t\t6.8295\tyum            \n",
      "\t-7.9153\tgross          \t\t\t\t6.6189\tworri          \n",
      "\t-7.6038\tunpleas        \t\t\t\t6.5349\tyummi          \n",
      "\t-7.5881\truin           \t\t\t\t6.5163\tsmooth         \n",
      "\t-7.5422\tdisgust        \t\t\t\t6.3118\theaven         \n",
      "\t-7.3679\tbland          \t\t\t\t6.2346\trefresh        \n",
      "\t-7.1857\trefund         \t\t\t\t6.1038\tuniqu          \n",
      "\t-7.0302\tweak           \t\t\t\t6.0718\tglad           \n",
      "\t-7.0301\tshame          \t\t\t\t5.8604\tfavorit        \n",
      "\t-6.9840\trip            \t\t\t\t5.8501\tcomplaint      \n",
      "\t-6.8226\tpoor           \t\t\t\t5.8255\tnice           \n",
      "\t-6.7697\tmediocr        \t\t\t\t5.7704\thesit          \n"
     ]
    }
   ],
   "source": [
    "show_most_informative_features(BoW, clf)"
   ]
  },
  {
   "cell_type": "markdown",
   "metadata": {},
   "source": [
    "# RandomizedCVto find best C"
   ]
  },
  {
   "cell_type": "code",
   "execution_count": 45,
   "metadata": {},
   "outputs": [
    {
     "name": "stdout",
     "output_type": "stream",
     "text": [
      "Fitting 10 folds for each of 10 candidates, totalling 100 fits\n"
     ]
    },
    {
     "name": "stderr",
     "output_type": "stream",
     "text": [
      "[Parallel(n_jobs=4)]: Done  42 tasks      | elapsed:   14.8s\n",
      "[Parallel(n_jobs=4)]: Done 100 out of 100 | elapsed:  1.9min finished\n"
     ]
    },
    {
     "name": "stdout",
     "output_type": "stream",
     "text": [
      "Best HyperParameter:  {'penalty': 'l2', 'C': 10}\n",
      "Best Accuracy: 86.79%\n"
     ]
    }
   ],
   "source": [
    "cls=LogisticRegression()\n",
    "param_grid={'C':[1000,500,100,50,10,5,1,0.5,0.1,0.05,0.01,0.005,0.001,0.0005,0.00001],\n",
    "           'penalty':['l1','l2']}\n",
    "tcv=TimeSeriesSplit(n_splits=10)\n",
    "rcv=RandomizedSearchCV(cls,param_grid,cv=tcv,verbose=1,n_jobs=4)\n",
    "rcv.fit(X_train,Y_train)\n",
    "savetofile(rcv,\"D:/Applied AI Course/rcv_r\")\n",
    "print(\"Best HyperParameter: \",rcv.best_params_)\n",
    "print(\"Best Accuracy: %.2f%%\"%(rcv.best_score_*100))"
   ]
  },
  {
   "cell_type": "code",
   "execution_count": 46,
   "metadata": {
    "collapsed": true
   },
   "outputs": [],
   "source": [
    "def plot_error(rcv):\n",
    "    x1=[]\n",
    "    y1=[]\n",
    "    x2=[]\n",
    "    y2=[]\n",
    "    \n",
    "    for x in rcv.grid_scores_:\n",
    "        if (x[0]['penalty'])=='l1':\n",
    "            y1.append(1-x[1])\n",
    "            x1.append(x[0]['C'])\n",
    "        else:\n",
    "            y2.append(1-x[1])\n",
    "            x2.append(x[0]['C'])\n",
    "    \n",
    "    plt.xlim(1e-4,500)\n",
    "    plt.ylim(0,1.0)\n",
    "    plt.xlabel(\"C\",fontsize=15)\n",
    "    plt.ylabel(\"Misclassification error\")\n",
    "    plt.title(\"Misclassification error vs C\")\n",
    "    plt.plot(x1,y1,'b',label=\"L1\")\n",
    "    plt.plot(x2,y2,'r',label=\"L2\")\n",
    "    plt.legend()\n",
    "    plt.show()\n",
    "    "
   ]
  },
  {
   "cell_type": "code",
   "execution_count": 47,
   "metadata": {},
   "outputs": [
    {
     "name": "stderr",
     "output_type": "stream",
     "text": [
      "D:\\Anaconda\\lib\\site-packages\\sklearn\\model_selection\\_search.py:762: DeprecationWarning: The grid_scores_ attribute was deprecated in version 0.18 in favor of the more elaborate cv_results_ attribute. The grid_scores_ attribute will not be available from 0.20\n",
      "  DeprecationWarning)\n"
     ]
    },
    {
     "data": {
      "image/png": "[encoded data removed]",
      "text/plain": [
       "<Figure size 432x288 with 1 Axes>"
      ]
     },
     "metadata": {},
     "output_type": "display_data"
    }
   ],
   "source": [
    "plot_error(rcv)"
   ]
  },
  {
   "cell_type": "code",
   "execution_count": 48,
   "metadata": {},
   "outputs": [
    {
     "name": "stdout",
     "output_type": "stream",
     "text": [
      "Accuracy on test set: 87.837%\n",
      "Non Zero weights: 44575\n"
     ]
    }
   ],
   "source": [
    "clf=LogisticRegression(C=5, penalty='l2')\n",
    "clf.fit(X_train,Y_train)\n",
    "y_pred=clf.predict(X_test)\n",
    "print(\"Accuracy on test set: %0.3f%%\"%(accuracy_score(Y_test, y_pred)*100))\n",
    "print(\"Non Zero weights:\",np.count_nonzero(clf.coef_))\n",
    "training_accuracy = clf.score(X_train, Y_train)\n",
    "training_error_rcv = 1 - training_accuracy\n",
    "test_accuracy = accuracy_score(Y_test, y_pred)\n",
    "test_error_rcv = 1 - test_accuracy"
   ]
  },
  {
   "cell_type": "code",
   "execution_count": 49,
   "metadata": {},
   "outputs": [
    {
     "data": {
      "text/plain": [
       "<matplotlib.axes._subplots.AxesSubplot at 0x20355c88>"
      ]
     },
     "execution_count": 49,
     "metadata": {},
     "output_type": "execute_result"
    },
    {
     "data": {
      "image/png": "[encoded data removed]",
      "text/plain": [
       "<Figure size 432x288 with 2 Axes>"
      ]
     },
     "metadata": {},
     "output_type": "display_data"
    }
   ],
   "source": [
    "conf_matr_df = pd.DataFrame(confusion_matrix(Y_test, y_pred), range(2),range(2))\n",
    "sns.set(font_scale=1.4)#for label size\n",
    "sns.heatmap(conf_matr_df, annot=True,annot_kws={\"size\": 16}, fmt='g')"
   ]
  },
  {
   "cell_type": "code",
   "execution_count": 50,
   "metadata": {},
   "outputs": [
    {
     "name": "stdout",
     "output_type": "stream",
     "text": [
      "             precision    recall  f1-score   support\n",
      "\n",
      "   Negative       0.88      0.89      0.89     15916\n",
      "   Positive       0.87      0.87      0.87     14084\n",
      "\n",
      "avg / total       0.88      0.88      0.88     30000\n",
      "\n"
     ]
    }
   ],
   "source": [
    "from sklearn.metrics import classification_report,precision_score,recall_score\n",
    "\n",
    "print(classification_report(Y_test,y_pred))"
   ]
  },
  {
   "cell_type": "markdown",
   "metadata": {},
   "source": [
    "# Tf-Idf"
   ]
  },
  {
   "cell_type": "code",
   "execution_count": 51,
   "metadata": {},
   "outputs": [
    {
     "data": {
      "text/plain": [
       "(100000,)"
      ]
     },
     "execution_count": 51,
     "metadata": {},
     "output_type": "execute_result"
    }
   ],
   "source": [
    "X=final_d[\"CleanedText\"]\n",
    "X.shape"
   ]
  },
  {
   "cell_type": "code",
   "execution_count": 52,
   "metadata": {},
   "outputs": [
    {
     "data": {
      "text/plain": [
       "(100000,)"
      ]
     },
     "execution_count": 52,
     "metadata": {},
     "output_type": "execute_result"
    }
   ],
   "source": [
    "y=final_d[\"Score\"]\n",
    "y.shape"
   ]
  },
  {
   "cell_type": "code",
   "execution_count": 53,
   "metadata": {
    "collapsed": true
   },
   "outputs": [],
   "source": [
    "#split the data into train and test fo bag of words\n",
    "\n",
    "X_train,X_test,Y_train,Y_test=train_test_split(X,y,test_size=0.3,random_state=None,shuffle=False)\n",
    "#split train into cross val train and cross val test\n",
    "X_t,X_cv,Y_t,Y_cv=train_test_split(X_train,Y_train,test_size=0.3,shuffle=False)"
   ]
  },
  {
   "cell_type": "code",
   "execution_count": 54,
   "metadata": {
    "collapsed": true
   },
   "outputs": [],
   "source": [
    "tfidf=TfidfVectorizer()\n",
    "X_train=tfidf.fit_transform(X_train)\n",
    "#X_train=StandardScaler(with_mean=False).fit_transform(X_train)\n",
    "x_test=tfidf.transform(X_test)"
   ]
  },
  {
   "cell_type": "code",
   "execution_count": 55,
   "metadata": {},
   "outputs": [
    {
     "name": "stdout",
     "output_type": "stream",
     "text": [
      "(70000, 44575) (30000, 44575)\n"
     ]
    }
   ],
   "source": [
    "from sklearn import preprocessing\n",
    "X_train=preprocessing.normalize(X_train)\n",
    "X_test=preprocessing.normalize(x_test)\n",
    "\n",
    "print(X_train.shape, X_test.shape)"
   ]
  },
  {
   "cell_type": "code",
   "execution_count": 56,
   "metadata": {},
   "outputs": [
    {
     "name": "stdout",
     "output_type": "stream",
     "text": [
      "(6370, 44575) (6363, 44575)\n",
      "(12733, 44575) (6363, 44575)\n",
      "(19096, 44575) (6363, 44575)\n",
      "(25459, 44575) (6363, 44575)\n",
      "(31822, 44575) (6363, 44575)\n",
      "(38185, 44575) (6363, 44575)\n",
      "(44548, 44575) (6363, 44575)\n",
      "(50911, 44575) (6363, 44575)\n",
      "(57274, 44575) (6363, 44575)\n",
      "(63637, 44575) (6363, 44575)\n"
     ]
    }
   ],
   "source": [
    "from sklearn.model_selection import TimeSeriesSplit\n",
    "\n",
    "tcv=TimeSeriesSplit(n_splits=10)\n",
    "for train,cv in tcv.split(X_train):\n",
    "    print(X_train[train].shape,X_train[cv].shape)"
   ]
  },
  {
   "cell_type": "markdown",
   "metadata": {},
   "source": [
    "# Choose best hyperparameter using GridSearchCV"
   ]
  },
  {
   "cell_type": "code",
   "execution_count": 57,
   "metadata": {},
   "outputs": [
    {
     "name": "stdout",
     "output_type": "stream",
     "text": [
      "Wall time: 0 ns\n",
      "Fitting 10 folds for each of 30 candidates, totalling 300 fits\n"
     ]
    },
    {
     "name": "stderr",
     "output_type": "stream",
     "text": [
      "[Parallel(n_jobs=1)]: Done 300 out of 300 | elapsed:  8.6min finished\n"
     ]
    },
    {
     "name": "stdout",
     "output_type": "stream",
     "text": [
      "Best HyperParameter:  {'C': 5, 'penalty': 'l2'}\n",
      "Best Accuracy: 86.83%\n"
     ]
    }
   ],
   "source": [
    "%time\n",
    "from sklearn.model_selection import GridSearchCV\n",
    "from sklearn.linear_model import LogisticRegression\n",
    "\n",
    "clf = LogisticRegression()\n",
    "\n",
    "#params we need to try on classifier\n",
    "param_grid = {'C':[1000,500,100,50,10,5,1,0.5,0.1,0.05,0.01,0.005,0.001,0.0005,0.0001],\n",
    "             'penalty':['l1','l2']} \n",
    "tscv = TimeSeriesSplit(n_splits=10) #For time based splitting\n",
    "gsv_tfidf = GridSearchCV(clf,param_grid,cv=tscv,verbose=1)\n",
    "gsv_tfidf.fit(X_train,Y_train)\n",
    "savetofile(gsv_tfidf,\"D:/Applied AI Course/gsv_tfidf\")\n",
    "print(\"Best HyperParameter: \",gsv_tfidf.best_params_)\n",
    "print(\"Best Accuracy: %.2f%%\"%(gsv_tfidf.best_score_*100))"
   ]
  },
  {
   "cell_type": "code",
   "execution_count": 58,
   "metadata": {
    "collapsed": true
   },
   "outputs": [],
   "source": [
    "def plot_error_vs_c(gsv):\n",
    "    x1=[]\n",
    "    y1=[]\n",
    "    x2=[]\n",
    "    y2=[]\n",
    "    for a in gsv.grid_scores_:\n",
    "        if (a[0]['penalty']) =='l1':\n",
    "            y1.append(1-a[1])\n",
    "            x1.append(a[0]['C'])\n",
    "        else:\n",
    "            y2.append(1-a[1])\n",
    "            x2.append(a[0]['C'])\n",
    "    plt.xlim(5,1010)\n",
    "    plt.ylim(0,0.5)\n",
    "    plt.xlabel(\"C\",fontsize=15)\n",
    "    plt.ylabel(\"Misclassification Error\")\n",
    "    plt.title('Misclassification Error v/s C')\n",
    "    plt.plot(x1,y1,'b',label=\"L1\")\n",
    "    plt.plot(x2,y2,'r',label=\"L2\")\n",
    "    plt.legend()\n",
    "    plt.show()\n"
   ]
  },
  {
   "cell_type": "code",
   "execution_count": 59,
   "metadata": {},
   "outputs": [
    {
     "name": "stderr",
     "output_type": "stream",
     "text": [
      "D:\\Anaconda\\lib\\site-packages\\sklearn\\model_selection\\_search.py:762: DeprecationWarning: The grid_scores_ attribute was deprecated in version 0.18 in favor of the more elaborate cv_results_ attribute. The grid_scores_ attribute will not be available from 0.20\n",
      "  DeprecationWarning)\n"
     ]
    },
    {
     "data": {
      "image/png": "[encoded data removed]",
      "text/plain": [
       "<Figure size 432x288 with 1 Axes>"
      ]
     },
     "metadata": {},
     "output_type": "display_data"
    }
   ],
   "source": [
    "plot_error_vs_c(gsv_tfidf)"
   ]
  },
  {
   "cell_type": "markdown",
   "metadata": {},
   "source": [
    "# Perturbation Test"
   ]
  },
  {
   "cell_type": "code",
   "execution_count": 60,
   "metadata": {},
   "outputs": [
    {
     "name": "stdout",
     "output_type": "stream",
     "text": [
      "Accuracy on test set: 87.820%\n",
      "Non Zero weights: 44575\n"
     ]
    }
   ],
   "source": [
    "clf=LogisticRegression(C=1, penalty='l2')\n",
    "clf.fit(X_train, Y_train)\n",
    "pred=clf.predict(X_test)\n",
    "print(\"Accuracy on test set: %0.3f%%\"%(accuracy_score(Y_test, pred)*100))\n",
    "print(\"Non Zero weights:\",np.count_nonzero(clf.coef_))"
   ]
  },
  {
   "cell_type": "code",
   "execution_count": 61,
   "metadata": {},
   "outputs": [
    {
     "name": "stdout",
     "output_type": "stream",
     "text": [
      "[-0.04053489  0.2185708   0.08413608 -0.00737421  0.11936881 -0.16148735\n",
      "  0.05783046  0.009498    0.02452192  0.15993298 -0.01273076  0.05084801\n",
      "  0.03859645  0.11856259  0.07135083 -0.11376825  0.02614606 -0.22853564\n",
      " -0.16347983 -0.27108698  0.00448616 -0.002792    0.08604424  0.13908059\n",
      " -0.01683189 -0.0409205   0.00366113  0.00597774 -0.03524158 -0.26363743\n",
      "  0.21006693 -0.07940451 -0.34030893  0.13208726  0.07137482  0.00188177\n",
      " -0.12317676  0.07579839 -0.01335047  0.07735175 -0.01547063  0.41274839\n",
      " -0.13207432  0.03724167 -0.06100474  1.18437589 -0.06346688  0.03658489\n",
      " -0.29789426  0.03045555]\n"
     ]
    }
   ],
   "source": [
    "#weight before adding random noise\n",
    "from scipy.sparse import find\n",
    "#Weights before adding random noise\n",
    "weights1 = find(clf.coef_[0])[2]\n",
    "print(weights1[:50])"
   ]
  },
  {
   "cell_type": "code",
   "execution_count": 62,
   "metadata": {},
   "outputs": [
    {
     "name": "stdout",
     "output_type": "stream",
     "text": [
      "(70000, 44575)\n"
     ]
    }
   ],
   "source": [
    "#insert random noise\n",
    "X_train_t = X_train\n",
    "#Random noise\n",
    "z = np.random.uniform(low=-0.0001, high=0.0001, size=(find(X_train_t)[0].size,))\n",
    "#Getting the postions(row and column) and value of non-zero datapoints \n",
    "r,c,v = find(X_train_t)\n",
    "\n",
    "#Introducing random noise to non-zero datapoints\n",
    "X_train_t[r,c] = z + X_train_t[r,c]\n",
    "\n",
    "print(X_train_t.shape)"
   ]
  },
  {
   "cell_type": "code",
   "execution_count": 63,
   "metadata": {},
   "outputs": [
    {
     "name": "stdout",
     "output_type": "stream",
     "text": [
      "Accuracy on test set: 87.820%\n",
      "Non Zero weights: 44575\n"
     ]
    }
   ],
   "source": [
    "clf=LogisticRegression(C=1, penalty='l2')\n",
    "clf.fit(X_train_t, Y_train)\n",
    "pred=clf.predict(X_test)\n",
    "print(\"Accuracy on test set: %0.3f%%\"%(accuracy_score(Y_test, pred)*100))\n",
    "print(\"Non Zero weights:\",np.count_nonzero(clf.coef_))"
   ]
  },
  {
   "cell_type": "code",
   "execution_count": 64,
   "metadata": {},
   "outputs": [
    {
     "name": "stdout",
     "output_type": "stream",
     "text": [
      "[-0.04054298  0.2184667   0.08406127 -0.00736103  0.11933605 -0.16151016\n",
      "  0.05780618  0.00947112  0.02449069  0.15992433 -0.01270971  0.05085112\n",
      "  0.0386192   0.11862801  0.07135979 -0.11380638  0.02610672 -0.22840384\n",
      " -0.16346064 -0.27122137  0.00447613 -0.00278868  0.08608755  0.1390681\n",
      " -0.01684412 -0.04075514  0.00366312  0.00594582 -0.03520337 -0.26350191\n",
      "  0.2100048  -0.07931782 -0.34035664  0.13207126  0.07142421  0.00188123\n",
      " -0.12322678  0.07583229 -0.01336515  0.07740348 -0.01544947  0.4128175\n",
      " -0.13206487  0.0372324  -0.06094933  1.18423037 -0.06344667  0.03656178\n",
      " -0.297914    0.03046092]\n"
     ]
    }
   ],
   "source": [
    "#weight after adding random noise\n",
    "from scipy.sparse import find\n",
    "#Weights before adding random noise\n",
    "weights2 = find(clf.coef_[0])[2]\n",
    "print(weights2[:50])"
   ]
  },
  {
   "cell_type": "code",
   "execution_count": 65,
   "metadata": {},
   "outputs": [
    {
     "name": "stdout",
     "output_type": "stream",
     "text": [
      "44575\n"
     ]
    }
   ],
   "source": [
    "print(weights2.size)"
   ]
  },
  {
   "cell_type": "code",
   "execution_count": 66,
   "metadata": {
    "collapsed": true
   },
   "outputs": [],
   "source": [
    "w_diff=(abs(weights1-weights2) / weights1) * 100"
   ]
  },
  {
   "cell_type": "code",
   "execution_count": 67,
   "metadata": {},
   "outputs": [
    {
     "name": "stdout",
     "output_type": "stream",
     "text": [
      "8\n"
     ]
    }
   ],
   "source": [
    "print(w_diff[np.where(w_diff > 30)].size)"
   ]
  },
  {
   "cell_type": "raw",
   "metadata": {},
   "source": [
    "Conclusion:  6 features have their weights greater than 30"
   ]
  },
  {
   "cell_type": "code",
   "execution_count": 68,
   "metadata": {},
   "outputs": [
    {
     "name": "stdout",
     "output_type": "stream",
     "text": [
      "Accuracy on test set: 87.820%\n",
      "Non Zero weights: 44575\n"
     ]
    }
   ],
   "source": [
    "clf=LogisticRegression(C=1, penalty='l2')\n",
    "clf.fit(X_train, Y_train)\n",
    "pred=clf.predict(X_test)\n",
    "print(\"Accuracy on test set: %0.3f%%\"%(accuracy_score(Y_test, pred)*100))\n",
    "print(\"Non Zero weights:\",np.count_nonzero(clf.coef_))\n",
    "training_accuracy = clf.score(X_train, Y_train)\n",
    "training_error_tfidf = 1 - training_accuracy\n",
    "test_accuracy = accuracy_score(Y_test, pred)\n",
    "test_error_tfidf = 1 - test_accuracy"
   ]
  },
  {
   "cell_type": "markdown",
   "metadata": {},
   "source": [
    "# Hyperparameter using randomised CV"
   ]
  },
  {
   "cell_type": "code",
   "execution_count": 69,
   "metadata": {},
   "outputs": [
    {
     "name": "stdout",
     "output_type": "stream",
     "text": [
      "Fitting 10 folds for each of 10 candidates, totalling 100 fits\n"
     ]
    },
    {
     "name": "stderr",
     "output_type": "stream",
     "text": [
      "[Parallel(n_jobs=4)]: Done  42 tasks      | elapsed:   19.2s\n",
      "[Parallel(n_jobs=4)]: Done 100 out of 100 | elapsed:   46.6s finished\n"
     ]
    },
    {
     "name": "stdout",
     "output_type": "stream",
     "text": [
      "Best HyperParameter:  {'penalty': 'l2', 'C': 5}\n",
      "Best Accuracy: 86.84%\n"
     ]
    }
   ],
   "source": [
    "cls=LogisticRegression()\n",
    "param_grid={'C':[1000,500,100,50,10,5,1,0.5,0.1,0.05,0.01,0.005,0.001,0.0005,0.00001],\n",
    "           'penalty':['l1','l2']}\n",
    "tcv=TimeSeriesSplit(n_splits=10)\n",
    "rcv_tfidf=RandomizedSearchCV(cls,param_grid,cv=tcv,verbose=1,n_jobs=4)\n",
    "rcv_tfidf.fit(X_train,Y_train)\n",
    "savetofile(rcv_tfidf,\"D:/Applied AI Course/rcv_r\")\n",
    "print(\"Best HyperParameter: \",rcv_tfidf.best_params_)\n",
    "print(\"Best Accuracy: %.2f%%\"%(rcv_tfidf.best_score_*100))"
   ]
  },
  {
   "cell_type": "code",
   "execution_count": 70,
   "metadata": {},
   "outputs": [
    {
     "name": "stdout",
     "output_type": "stream",
     "text": [
      "Accuracy on test set: 87.683%\n",
      "Non Zero weights: 44575\n"
     ]
    }
   ],
   "source": [
    "clf=LogisticRegression(C=5, penalty='l2')\n",
    "clf.fit(X_train, Y_train)\n",
    "pred=clf.predict(X_test)\n",
    "print(\"Accuracy on test set: %0.3f%%\"%(accuracy_score(Y_test, pred)*100))\n",
    "print(\"Non Zero weights:\",np.count_nonzero(clf.coef_))\n",
    "training_accuracy = clf.score(X_train, Y_train)\n",
    "training_error_tfidf_rcv = 1 - training_accuracy\n",
    "test_accuracy = accuracy_score(Y_test, pred)\n",
    "test_error_tfidf_rcv = 1 - test_accuracy"
   ]
  },
  {
   "cell_type": "markdown",
   "metadata": {},
   "source": [
    "# Confusion matrix"
   ]
  },
  {
   "cell_type": "code",
   "execution_count": 71,
   "metadata": {},
   "outputs": [
    {
     "data": {
      "text/plain": [
       "<matplotlib.axes._subplots.AxesSubplot at 0x1958d828>"
      ]
     },
     "execution_count": 71,
     "metadata": {},
     "output_type": "execute_result"
    },
    {
     "data": {
      "image/png": "[encoded data removed]",
      "text/plain": [
       "<Figure size 432x288 with 2 Axes>"
      ]
     },
     "metadata": {},
     "output_type": "display_data"
    }
   ],
   "source": [
    "conf_matr_df = pd.DataFrame(confusion_matrix(Y_test, pred), range(2),range(2))\n",
    "sns.set(font_scale=1.4)#for label size\n",
    "sns.heatmap(conf_matr_df, annot=True,annot_kws={\"size\": 16}, fmt='g')"
   ]
  },
  {
   "cell_type": "code",
   "execution_count": 72,
   "metadata": {},
   "outputs": [
    {
     "name": "stdout",
     "output_type": "stream",
     "text": [
      "             precision    recall  f1-score   support\n",
      "\n",
      "   Negative       0.88      0.88      0.88     15916\n",
      "   Positive       0.87      0.87      0.87     14084\n",
      "\n",
      "avg / total       0.88      0.88      0.88     30000\n",
      "\n"
     ]
    }
   ],
   "source": [
    "from sklearn.metrics import classification_report,precision_score,recall_score\n",
    "\n",
    "print(classification_report(Y_test,pred))"
   ]
  },
  {
   "cell_type": "markdown",
   "metadata": {},
   "source": [
    "# Top important features"
   ]
  },
  {
   "cell_type": "code",
   "execution_count": 73,
   "metadata": {
    "collapsed": true
   },
   "outputs": [],
   "source": [
    "def show_most_informative_features(vectorizer, clf, n=25):\n",
    "    feature_names = vectorizer.get_feature_names()\n",
    "    coefs_with_fns = sorted(zip(clf.coef_[0], feature_names))\n",
    "    top = zip(coefs_with_fns[:n], coefs_with_fns[:-(n + 1):-1])\n",
    "    print(\"\\t\\t\\tPositive\\t\\t\\t\\t\\t\\tNegative\")\n",
    "    print(\"________________________________________________________________________________________________\")\n",
    "    for (coef_1, fn_1), (coef_2, fn_2) in top:\n",
    "        print(\"\\t%.4f\\t%-15s\\t\\t\\t\\t%.4f\\t%-15s\" % (coef_1, fn_1, coef_2, fn_2))"
   ]
  },
  {
   "cell_type": "code",
   "execution_count": 74,
   "metadata": {},
   "outputs": [
    {
     "name": "stdout",
     "output_type": "stream",
     "text": [
      "\t\t\tPositive\t\t\t\t\t\tNegative\n",
      "________________________________________________________________________________________________\n",
      "\t-12.9842\tworst          \t\t\t\t12.4592\tgreat          \n",
      "\t-11.0487\tdisappoint     \t\t\t\t11.2878\tdelici         \n",
      "\t-10.4858\taw             \t\t\t\t11.2324\tperfect        \n",
      "\t-10.0916\thorribl        \t\t\t\t10.6257\tbest           \n",
      "\t-9.7820\tunfortun       \t\t\t\t9.4445\tlove           \n",
      "\t-9.6655\tterribl        \t\t\t\t9.4390\texcel          \n",
      "\t-9.1788\treturn         \t\t\t\t8.3835\tamaz           \n",
      "\t-8.3176\ttasteless      \t\t\t\t8.2369\thook           \n",
      "\t-7.7926\tsad            \t\t\t\t7.7550\tskeptic        \n",
      "\t-7.7521\tstale          \t\t\t\t7.4376\taddict         \n",
      "\t-7.7138\twors           \t\t\t\t7.3323\tfavorit        \n",
      "\t-7.6806\tthrew          \t\t\t\t7.3092\tnice           \n",
      "\t-7.5973\tyuck           \t\t\t\t6.9073\tgood           \n",
      "\t-7.4674\tcancel         \t\t\t\t6.8757\tawesom         \n",
      "\t-7.1924\tgross          \t\t\t\t6.8705\tbeat           \n",
      "\t-6.9582\tbland          \t\t\t\t6.7612\tsatisfi        \n",
      "\t-6.8500\truin           \t\t\t\t6.6060\tfantast        \n",
      "\t-6.7225\tweak           \t\t\t\t6.3806\tyum            \n",
      "\t-6.6254\trefund         \t\t\t\t6.3703\tsmooth         \n",
      "\t-6.5854\tunpleas        \t\t\t\t6.3186\tyummi          \n",
      "\t-6.5209\tdisgust        \t\t\t\t6.2045\ttasti          \n",
      "\t-6.5082\tmediocr        \t\t\t\t6.0654\tglad           \n",
      "\t-6.4332\tpoor           \t\t\t\t6.0511\thappi          \n",
      "\t-6.2296\twast           \t\t\t\t5.9793\twonder         \n",
      "\t-6.1536\trip            \t\t\t\t5.9426\tworri          \n"
     ]
    }
   ],
   "source": [
    "show_most_informative_features(tfidf, clf)"
   ]
  },
  {
   "cell_type": "markdown",
   "metadata": {},
   "source": [
    "# Word2Vec"
   ]
  },
  {
   "cell_type": "code",
   "execution_count": 75,
   "metadata": {},
   "outputs": [
    {
     "name": "stderr",
     "output_type": "stream",
     "text": [
      "D:\\Anaconda\\lib\\site-packages\\gensim\\utils.py:1209: UserWarning: detected Windows; aliasing chunkize to chunkize_serial\n",
      "  warnings.warn(\"detected Windows; aliasing chunkize to chunkize_serial\")\n"
     ]
    }
   ],
   "source": [
    "import gensim\n",
    "from gensim.models import word2vec,KeyedVectors"
   ]
  },
  {
   "cell_type": "code",
   "execution_count": 76,
   "metadata": {},
   "outputs": [
    {
     "data": {
      "text/plain": [
       "(100000,)"
      ]
     },
     "execution_count": 76,
     "metadata": {},
     "output_type": "execute_result"
    }
   ],
   "source": [
    "X=final_d[\"Text\"]\n",
    "X.shape"
   ]
  },
  {
   "cell_type": "code",
   "execution_count": 77,
   "metadata": {},
   "outputs": [
    {
     "data": {
      "text/plain": [
       "(100000,)"
      ]
     },
     "execution_count": 77,
     "metadata": {},
     "output_type": "execute_result"
    }
   ],
   "source": [
    "y=final_d[\"Score\"]\n",
    "y.shape"
   ]
  },
  {
   "cell_type": "code",
   "execution_count": 78,
   "metadata": {
    "collapsed": true
   },
   "outputs": [],
   "source": [
    "X_train,X_test,Y_train,Y_test=train_test_split(X,y,test_size=0.30,random_state=None, shuffle=False)\n",
    "#split train into cross val train and cross val test\n",
    "X_t,X_cv,Y_t,Y_cv=train_test_split(X_train,Y_train,test_size=0.3, shuffle=False)"
   ]
  },
  {
   "cell_type": "code",
   "execution_count": 79,
   "metadata": {},
   "outputs": [
    {
     "name": "stdout",
     "output_type": "stream",
     "text": [
      "(70000,) (30000,) (70000,) (30000,)\n"
     ]
    }
   ],
   "source": [
    "print(X_train.shape,X_test.shape,Y_train.shape,Y_test.shape)"
   ]
  },
  {
   "cell_type": "code",
   "execution_count": 80,
   "metadata": {},
   "outputs": [
    {
     "name": "stdout",
     "output_type": "stream",
     "text": [
      "35046\n"
     ]
    }
   ],
   "source": [
    "W2V_Tr=openfromfile(\"D:/Applied AI Course/W2V_Tr\")\n",
    "words=list(W2V_Tr.wv.vocab)\n",
    "print(len(words))"
   ]
  },
  {
   "cell_type": "code",
   "execution_count": 81,
   "metadata": {},
   "outputs": [
    {
     "name": "stdout",
     "output_type": "stream",
     "text": [
      "35096\n"
     ]
    }
   ],
   "source": [
    "i=0\n",
    "list_of_sentence=[]\n",
    "for sent in X_train.values:\n",
    "    filtered_sentence=[]\n",
    "    list_of_sentence.append(sent.split())\n",
    "    #sent=cleanhtml(sent)\n",
    "    #for w in sent.split():\n",
    "      #   for cleaned in cleanpunc(w).split():\n",
    "      #      if(cleaned.isalpha()):\n",
    "       #         filtered_sentence.append(cleaned.lower())\n",
    "        #    else:\n",
    "         #       continue\n",
    "#list_of_sentence.append(filtered_sentence)\n",
    "#print(X[\"CleanedText\"].values[0])\n",
    "#print('###########')\n",
    "#print(list_of_sentence[0])\n",
    "W2V_Tr=gensim.models.Word2Vec(list_of_sentence,min_count=5,size=50,workers=4)\n",
    "savetofile(W2V_Tr,\"D:/Applied AI Course/W2V_Tr\")\n",
    "words=list(W2V_Tr.wv.vocab)\n",
    "print(len(words))"
   ]
  },
  {
   "cell_type": "code",
   "execution_count": 82,
   "metadata": {},
   "outputs": [
    {
     "name": "stderr",
     "output_type": "stream",
     "text": [
      "D:\\Anaconda\\lib\\site-packages\\gensim\\matutils.py:737: FutureWarning: Conversion of the second argument of issubdtype from `int` to `np.signedinteger` is deprecated. In future, it will be treated as `np.int32 == np.dtype(int).type`.\n",
      "  if np.issubdtype(vec.dtype, np.int):\n"
     ]
    },
    {
     "data": {
      "text/plain": [
       "[('like,', 0.6809192895889282),\n",
       " ('like.', 0.6442536115646362),\n",
       " ('resemble', 0.5514405369758606),\n",
       " ('prefer', 0.5499492883682251),\n",
       " ('enjoy', 0.5351779460906982),\n",
       " ('okay', 0.5345637798309326),\n",
       " ('dislike', 0.5334469079971313),\n",
       " ('know,', 0.5277306437492371),\n",
       " ('want', 0.526965856552124),\n",
       " ('liked', 0.5147050619125366)]"
      ]
     },
     "execution_count": 82,
     "metadata": {},
     "output_type": "execute_result"
    }
   ],
   "source": [
    "W2V_Tr.wv.most_similar('like')"
   ]
  },
  {
   "cell_type": "code",
   "execution_count": 83,
   "metadata": {},
   "outputs": [
    {
     "name": "stdout",
     "output_type": "stream",
     "text": [
      "['Starbucks', 'Caffe', 'Verona', 'is', 'one', 'of', 'the', 'most', 'full-bodied,', 'aromatic', 'coffees', 'sold', 'by', 'Starbucks.', 'It', 'can', 'be', 'enjoyed', 'at', 'any', 'time', 'of', 'day,', 'but', 'it', 'is', 'best', 'served', 'to', 'late-afternoon', 'guests', 'or', 'after', 'dinner', 'with', 'dessert.', 'To', 'anyone', 'familiar', 'with', 'the', 'rich', 'aroma', 'of', 'coffee', 'beans', 'roasting,', 'this', 'coffee', 'tastes', 'like', 'that', 'smell.', 'Few', 'cups', 'are', 'as', 'fraught', 'with', 'flavor', 'and', 'richness', 'as', 'Caffe', 'Verona,', 'short', 'of', 'a', 'well-crafted', 'macchiato.<br', '/><br', '/>In', 'spite', 'of', 'its', 'boldness,', 'this', 'coffee', 'manages', 'to', 'retain', 'its', 'distinctive', 'characteristics.', 'Where', 'some', 'of', 'the', 'darker', 'roasts', 'tend', 'to', 'become', 'uniform', 'and', 'mundane,', 'Caffe', 'Verona', 'is', 'unmistakably', 'unique', 'and', 'memorable.', 'Its', 'flavor', 'and', 'aroma', 'linger', 'long', 'after', 'you', 'have', 'finished', 'the', 'cup.<br', '/><br', '/>Whether', 'you', 'are', 'the', 'kind', 'of', 'person', 'who', 'gets', 'hooked', 'on', 'one', 'coffee,', 'or', 'if', 'you', 'like', 'to', 'try', 'different', 'kinds,', 'this', 'pack', 'of', 'three', 'is', 'simply', 'a', 'great', 'deal.', 'If', 'you', 'truly,', 'truly', 'enjoy', 'coffee,', 'I', 'can', 'almost', 'guarantee', 'you', 'will', 'enjoy', 'Caffe', 'Verona.']\n",
      "20734\n"
     ]
    }
   ],
   "source": [
    "#word2vec for test\n",
    "i=0\n",
    "list_of_sentences=[]\n",
    "for sent in X_test.values:\n",
    "    filtered_sentences=[]\n",
    "    list_of_sentences.append(sent.split())\n",
    "    #sent=cleanhtml(sent)\n",
    "    #for w in sent.split():\n",
    "     #   for cleaned in cleanpunc(w).split():\n",
    "      #      if(cleaned.isalpha()):\n",
    "       #         filtered_sentence.append(cleaned.lower())\n",
    "        #    else:\n",
    "         #       continue\n",
    "#list_of_sentences.append(filtered_sentence)\n",
    "#print(X_train.values[0])\n",
    "#print('###########')\n",
    "print(list_of_sentences[0])\n",
    "W2V_test=gensim.models.Word2Vec(list_of_sentences,min_count=5,size=50,workers=4)\n",
    "savetofile(W2V_test,\"D:/Applied AI Course/W2V_test\")\n",
    "words_test=list(W2V_test.wv.vocab)\n",
    "print(len(words_test))"
   ]
  },
  {
   "cell_type": "markdown",
   "metadata": {},
   "source": [
    "# Avg W2Vec"
   ]
  },
  {
   "cell_type": "code",
   "execution_count": 84,
   "metadata": {},
   "outputs": [
    {
     "name": "stderr",
     "output_type": "stream",
     "text": [
      "100%|██████████████████████████████████| 70000/70000 [00:21<00:00, 3276.62it/s]\n"
     ]
    },
    {
     "name": "stdout",
     "output_type": "stream",
     "text": [
      "70000\n",
      "50\n"
     ]
    },
    {
     "name": "stderr",
     "output_type": "stream",
     "text": [
      " 92%|███████████████████████████████▍  | 27731/30000 [00:08<00:00, 3345.24it/s]D:\\Anaconda\\lib\\site-packages\\ipykernel_launcher.py:35: RuntimeWarning: invalid value encountered in true_divide\n",
      "100%|██████████████████████████████████| 30000/30000 [00:09<00:00, 3192.49it/s]\n"
     ]
    }
   ],
   "source": [
    "from tqdm import tqdm\n",
    "\n",
    "sent_vectors = [] \n",
    "for sent in tqdm(list_of_sentence): # for each review/sentence\n",
    "    sent_vec = np.zeros(50) # as word vectors are of zero length\n",
    "    cnt_words =0 # num of words with a valid vector in the sentence/review\n",
    "    for word in sent: # for each word in a review/sentence\n",
    "        try:\n",
    "            vec = W2V_Tr.wv[word]\n",
    "            sent_vec += vec\n",
    "            cnt_words += 1\n",
    "        except:\n",
    "            pass\n",
    "        \n",
    "    if cnt_words != 0:\n",
    "        sent_vec /= cnt_words\n",
    "    sent_vectors.append(sent_vec)\n",
    "print(len(sent_vectors))\n",
    "print(len(sent_vectors[0]))\n",
    "    \n",
    "\n",
    "train_vectors=np.nan_to_num(sent_vectors)\n",
    "\n",
    "test_vectors = []\n",
    "for sent in tqdm(list_of_sentences):\n",
    "    sent_vec = np.zeros(50)\n",
    "    cnt_words = 0\n",
    "    for word in sent:\n",
    "        try:\n",
    "            vec = W2V_Tr.wv[word]\n",
    "            sent_vec += vec\n",
    "            cnt_words += 1\n",
    "        except:\n",
    "            pass\n",
    "    sent_vec /= cnt_words\n",
    "    test_vectors.append(sent_vec)\n",
    "test_vectors = np.nan_to_num(test_vectors)"
   ]
  },
  {
   "cell_type": "code",
   "execution_count": 85,
   "metadata": {
    "collapsed": true
   },
   "outputs": [],
   "source": [
    "X_train=np.array(train_vectors)\n",
    "X_test=np.array(test_vectors)"
   ]
  },
  {
   "cell_type": "code",
   "execution_count": 86,
   "metadata": {},
   "outputs": [
    {
     "data": {
      "text/plain": [
       "(70000, 50)"
      ]
     },
     "execution_count": 86,
     "metadata": {},
     "output_type": "execute_result"
    }
   ],
   "source": [
    "X_train.shape"
   ]
  },
  {
   "cell_type": "code",
   "execution_count": 87,
   "metadata": {},
   "outputs": [
    {
     "data": {
      "text/plain": [
       "(70000,)"
      ]
     },
     "execution_count": 87,
     "metadata": {},
     "output_type": "execute_result"
    }
   ],
   "source": [
    "Y_train.shape"
   ]
  },
  {
   "cell_type": "code",
   "execution_count": 88,
   "metadata": {},
   "outputs": [
    {
     "name": "stdout",
     "output_type": "stream",
     "text": [
      "(6370, 50) (6363, 50)\n",
      "(12733, 50) (6363, 50)\n",
      "(19096, 50) (6363, 50)\n",
      "(25459, 50) (6363, 50)\n",
      "(31822, 50) (6363, 50)\n",
      "(38185, 50) (6363, 50)\n",
      "(44548, 50) (6363, 50)\n",
      "(50911, 50) (6363, 50)\n",
      "(57274, 50) (6363, 50)\n",
      "(63637, 50) (6363, 50)\n"
     ]
    }
   ],
   "source": [
    "tcv=TimeSeriesSplit(n_splits=10)\n",
    "for train,cv in tcv.split(X_train):\n",
    "    print(X_train[train].shape,X_train[cv].shape)"
   ]
  },
  {
   "cell_type": "markdown",
   "metadata": {},
   "source": [
    "# Best hyperparameter using GridSearchCV"
   ]
  },
  {
   "cell_type": "code",
   "execution_count": 89,
   "metadata": {},
   "outputs": [
    {
     "name": "stdout",
     "output_type": "stream",
     "text": [
      "Wall time: 0 ns\n",
      "Fitting 10 folds for each of 30 candidates, totalling 300 fits\n"
     ]
    },
    {
     "name": "stderr",
     "output_type": "stream",
     "text": [
      "[Parallel(n_jobs=1)]: Done 300 out of 300 | elapsed: 32.4min finished\n"
     ]
    },
    {
     "name": "stdout",
     "output_type": "stream",
     "text": [
      "Best HyperParameter:  {'C': 100, 'penalty': 'l2'}\n",
      "Best Accuracy: 79.62%\n"
     ]
    }
   ],
   "source": [
    "%time\n",
    "from sklearn.model_selection import GridSearchCV\n",
    "from sklearn.linear_model import LogisticRegression\n",
    "\n",
    "clf = LogisticRegression()\n",
    "\n",
    "#params we need to try on classifier\n",
    "param_grid = {'C':[1000,500,100,50,10,5,1,0.5,0.1,0.05,0.01,0.005,0.001,0.0005,0.0001],\n",
    "             'penalty':['l1','l2']} \n",
    "tscv = TimeSeriesSplit(n_splits=10) #For time based splitting\n",
    "gsv_avgw2v = GridSearchCV(clf,param_grid,cv=tscv,verbose=1)\n",
    "gsv_avgw2v.fit(X_train,Y_train)\n",
    "savetofile(gsv_avgw2v,\"D:/Applied AI Course/gsv_avgw2v\")\n",
    "print(\"Best HyperParameter: \",gsv_avgw2v.best_params_)\n",
    "print(\"Best Accuracy: %.2f%%\"%(gsv_avgw2v.best_score_*100))"
   ]
  },
  {
   "cell_type": "code",
   "execution_count": 90,
   "metadata": {
    "collapsed": true
   },
   "outputs": [],
   "source": [
    "def plot_error_vs_c(gsv):\n",
    "    x1=[]\n",
    "    y1=[]\n",
    "    x2=[]\n",
    "    y2=[]\n",
    "    for a in gsv.grid_scores_:\n",
    "        if (a[0]['penalty']) =='l1':\n",
    "            y1.append(1-a[1])\n",
    "            x1.append(a[0]['C'])\n",
    "        else:\n",
    "            y2.append(1-a[1])\n",
    "            x2.append(a[0]['C'])\n",
    "    plt.xlim(5,1010)\n",
    "    plt.ylim(0,0.5)\n",
    "    plt.xlabel(\"C\",fontsize=15)\n",
    "    plt.ylabel(\"Misclassification Error\")\n",
    "    plt.title('Misclassification Error v/s C')\n",
    "    plt.plot(x1,y1,'b',label=\"L1\")\n",
    "    plt.plot(x2,y2,'r',label=\"L2\")\n",
    "    plt.legend()\n",
    "    plt.show()\n"
   ]
  },
  {
   "cell_type": "code",
   "execution_count": 91,
   "metadata": {},
   "outputs": [
    {
     "name": "stderr",
     "output_type": "stream",
     "text": [
      "D:\\Anaconda\\lib\\site-packages\\sklearn\\model_selection\\_search.py:762: DeprecationWarning: The grid_scores_ attribute was deprecated in version 0.18 in favor of the more elaborate cv_results_ attribute. The grid_scores_ attribute will not be available from 0.20\n",
      "  DeprecationWarning)\n"
     ]
    },
    {
     "data": {
      "image/png": "[encoded data removed]",
      "text/plain": [
       "<Figure size 432x288 with 1 Axes>"
      ]
     },
     "metadata": {},
     "output_type": "display_data"
    }
   ],
   "source": [
    "plot_error_vs_c(gsv_avgw2v)"
   ]
  },
  {
   "cell_type": "code",
   "execution_count": 92,
   "metadata": {},
   "outputs": [
    {
     "name": "stdout",
     "output_type": "stream",
     "text": [
      "Accuracy on test set: 80.123%\n",
      "Non Zero weights: 50\n"
     ]
    }
   ],
   "source": [
    "clf=LogisticRegression(C=50, penalty='l1')\n",
    "clf.fit(X_train, Y_train)\n",
    "pred=clf.predict(X_test)\n",
    "print(\"Accuracy on test set: %0.3f%%\"%(accuracy_score(Y_test, pred)*100))\n",
    "print(\"Non Zero weights:\",np.count_nonzero(clf.coef_))\n",
    "training_accuracy = clf.score(X_train, Y_train)\n",
    "training_error_avgw2v_gcv = 1 - training_accuracy\n",
    "test_accuracy = accuracy_score(Y_test, prediction)\n",
    "test_error_avgw2v_gcv = 1 - test_accuracy"
   ]
  },
  {
   "cell_type": "markdown",
   "metadata": {},
   "source": [
    "# Hyperparameter using RandomizedCV"
   ]
  },
  {
   "cell_type": "code",
   "execution_count": 93,
   "metadata": {},
   "outputs": [
    {
     "name": "stdout",
     "output_type": "stream",
     "text": [
      "Fitting 10 folds for each of 10 candidates, totalling 100 fits\n"
     ]
    },
    {
     "name": "stderr",
     "output_type": "stream",
     "text": [
      "[Parallel(n_jobs=4)]: Done  42 tasks      | elapsed:  3.1min\n",
      "[Parallel(n_jobs=4)]: Done 100 out of 100 | elapsed: 11.6min finished\n"
     ]
    },
    {
     "name": "stdout",
     "output_type": "stream",
     "text": [
      "Best HyperParameter:  {'penalty': 'l2', 'C': 500}\n",
      "Best Accuracy: 79.62%\n"
     ]
    }
   ],
   "source": [
    "cls=LogisticRegression()\n",
    "param_grid={'C':[1000,500,100,50,10,5,1,0.5,0.1,0.05,0.01,0.005,0.001,0.0005,0.00001],\n",
    "           'penalty':['l1','l2']}\n",
    "tcv=TimeSeriesSplit(n_splits=10)\n",
    "rcv_avgw2v=RandomizedSearchCV(cls,param_grid,cv=tcv,verbose=1,n_jobs=4)\n",
    "rcv_avgw2v.fit(X_train,Y_train)\n",
    "savetofile(rcv_avgw2v,\"D:/Applied AI Course/rcv_r\")\n",
    "print(\"Best HyperParameter: \",rcv_avgw2v.best_params_)\n",
    "print(\"Best Accuracy: %.2f%%\"%(rcv_avgw2v.best_score_*100))"
   ]
  },
  {
   "cell_type": "code",
   "execution_count": 94,
   "metadata": {},
   "outputs": [
    {
     "name": "stdout",
     "output_type": "stream",
     "text": [
      "Accuracy on test set: 80.120%\n",
      "Non Zero weights: 50\n"
     ]
    }
   ],
   "source": [
    "clf=LogisticRegression(C=50, penalty='l1')\n",
    "clf.fit(X_train, Y_train)\n",
    "pred=clf.predict(X_test)\n",
    "print(\"Accuracy on test set: %0.3f%%\"%(accuracy_score(Y_test, pred)*100))\n",
    "print(\"Non Zero weights:\",np.count_nonzero(clf.coef_))\n",
    "training_accuracy = clf.score(X_train, Y_train)\n",
    "training_error_avgw2v_rcv = 1 - training_accuracy\n",
    "test_accuracy = accuracy_score(Y_test, pred)\n",
    "test_error_avgw2v_rcv = 1 - test_accuracy"
   ]
  },
  {
   "cell_type": "markdown",
   "metadata": {},
   "source": [
    "# Confusion matrix"
   ]
  },
  {
   "cell_type": "code",
   "execution_count": 95,
   "metadata": {},
   "outputs": [
    {
     "data": {
      "text/plain": [
       "<matplotlib.axes._subplots.AxesSubplot at 0x62d86208>"
      ]
     },
     "execution_count": 95,
     "metadata": {},
     "output_type": "execute_result"
    },
    {
     "data": {
      "image/png": "[encoded data removed]",
      "text/plain": [
       "<Figure size 432x288 with 2 Axes>"
      ]
     },
     "metadata": {},
     "output_type": "display_data"
    }
   ],
   "source": [
    "conf_matr_df = pd.DataFrame(confusion_matrix(Y_test, pred), range(2),range(2))\n",
    "sns.set(font_scale=1.4)#for label size\n",
    "sns.heatmap(conf_matr_df, annot=True,annot_kws={\"size\": 16}, fmt='g')"
   ]
  },
  {
   "cell_type": "code",
   "execution_count": 96,
   "metadata": {},
   "outputs": [
    {
     "name": "stdout",
     "output_type": "stream",
     "text": [
      "             precision    recall  f1-score   support\n",
      "\n",
      "   Negative       0.88      0.89      0.89     15916\n",
      "   Positive       0.87      0.87      0.87     14084\n",
      "\n",
      "avg / total       0.88      0.88      0.88     30000\n",
      "\n"
     ]
    }
   ],
   "source": [
    "from sklearn.metrics import classification_report,precision_score,recall_score\n",
    "\n",
    "print(classification_report(Y_test,y_pred))"
   ]
  },
  {
   "cell_type": "markdown",
   "metadata": {},
   "source": [
    "# Perturbation test "
   ]
  },
  {
   "cell_type": "code",
   "execution_count": 97,
   "metadata": {},
   "outputs": [
    {
     "name": "stdout",
     "output_type": "stream",
     "text": [
      "Accuracy on test set: 80.093%\n",
      "Non Zero weights: 50\n"
     ]
    }
   ],
   "source": [
    "clf=LogisticRegression(C=1, penalty='l1')\n",
    "clf.fit(X_train, Y_train)\n",
    "pred=clf.predict(X_test)\n",
    "print(\"Accuracy on test set: %0.3f%%\"%(accuracy_score(Y_test, pred)*100))\n",
    "print(\"Non Zero weights:\",np.count_nonzero(clf.coef_))"
   ]
  },
  {
   "cell_type": "code",
   "execution_count": 98,
   "metadata": {},
   "outputs": [
    {
     "name": "stdout",
     "output_type": "stream",
     "text": [
      "[ 9.82373167e-01  6.43962983e-01 -1.26942449e-01 -9.21938453e-01\n",
      " -2.26221577e+00 -1.32507173e+00  6.76852950e-01 -7.48149239e-01\n",
      "  7.81987045e-02 -9.06542083e-01 -1.75450614e+00  8.75719895e-02\n",
      "  1.39020583e-01  4.00644046e-01  2.21260375e+00  1.59206568e+00\n",
      "  2.31603299e-01 -4.60930123e-01 -1.26046266e+00 -7.81269835e-01\n",
      " -4.56897484e-01 -1.15332885e+00  6.84127019e-01 -1.19756987e-01\n",
      "  7.08440722e-01  3.24579814e+00 -1.71425935e-03 -2.24966718e-01\n",
      "  9.88270214e-01 -7.37326447e-01 -3.44741991e-01 -1.16730813e+00\n",
      "  2.70815076e-01  1.27817198e+00 -9.97468943e-01  4.77464681e-01\n",
      "  8.30178635e-01  8.80155629e-02 -8.77464769e-01 -1.03799156e+00\n",
      "  1.10995641e+00  9.67191431e-01 -7.60279505e-01 -8.70654208e-01\n",
      " -8.96236943e-01  1.60561948e-01  5.98219914e-01 -1.94074678e+00\n",
      " -8.26192570e-01 -3.35685280e+00]\n"
     ]
    }
   ],
   "source": [
    "#weight before adding random noise\n",
    "from scipy.sparse import find\n",
    "#Weights before adding random noise\n",
    "weights1 = find(clf.coef_[0])[2]\n",
    "print(weights1[:50])"
   ]
  },
  {
   "cell_type": "code",
   "execution_count": 99,
   "metadata": {},
   "outputs": [
    {
     "name": "stdout",
     "output_type": "stream",
     "text": [
      "(70000, 50)\n"
     ]
    }
   ],
   "source": [
    "#insert random noise\n",
    "X_train_t = X_train\n",
    "#Random noise\n",
    "z = np.random.uniform(low=-0.0001, high=0.0001, size=(find(X_train_t)[0].size,))\n",
    "#Getting the postions(row and column) and value of non-zero datapoints \n",
    "r,c,v = find(X_train_t)\n",
    "\n",
    "#Introducing random noise to non-zero datapoints\n",
    "X_train_t[r,c] = z + X_train_t[r,c]\n",
    "\n",
    "print(X_train_t.shape)"
   ]
  },
  {
   "cell_type": "code",
   "execution_count": 100,
   "metadata": {},
   "outputs": [
    {
     "name": "stdout",
     "output_type": "stream",
     "text": [
      "Accuracy on test set: 80.090%\n",
      "Non Zero weights: 50\n"
     ]
    }
   ],
   "source": [
    "clf=LogisticRegression(C=1, penalty='l1')\n",
    "clf.fit(X_train_t, Y_train)\n",
    "pred=clf.predict(X_test)\n",
    "print(\"Accuracy on test set: %0.3f%%\"%(accuracy_score(Y_test, pred)*100))\n",
    "print(\"Non Zero weights:\",np.count_nonzero(clf.coef_))"
   ]
  },
  {
   "cell_type": "code",
   "execution_count": 101,
   "metadata": {},
   "outputs": [
    {
     "name": "stdout",
     "output_type": "stream",
     "text": [
      "[ 9.81623273e-01  6.43842492e-01 -1.27104135e-01 -9.21182547e-01\n",
      " -2.26111782e+00 -1.32487356e+00  6.76752464e-01 -7.47723822e-01\n",
      "  7.80887342e-02 -9.05746596e-01 -1.75431608e+00  8.74792689e-02\n",
      "  1.38916536e-01  4.00300118e-01  2.21148655e+00  1.59191481e+00\n",
      "  2.31061453e-01 -4.60862630e-01 -1.25932429e+00 -7.80854180e-01\n",
      " -4.57642131e-01 -1.15277060e+00  6.84037856e-01 -1.19906802e-01\n",
      "  7.08747755e-01  3.24392174e+00 -1.78637896e-03 -2.25066153e-01\n",
      "  9.88184847e-01 -7.36971882e-01 -3.44169328e-01 -1.16723087e+00\n",
      "  2.71264586e-01  1.27827923e+00 -9.97012534e-01  4.77803351e-01\n",
      "  8.30443335e-01  8.80926059e-02 -8.76747351e-01 -1.03832525e+00\n",
      "  1.10979316e+00  9.67084711e-01 -7.60567509e-01 -8.70574083e-01\n",
      " -8.95985285e-01  1.60280261e-01  5.98190856e-01 -1.93946364e+00\n",
      " -8.26070114e-01 -3.35600493e+00]\n"
     ]
    }
   ],
   "source": [
    "#weight after adding random noise\n",
    "from scipy.sparse import find\n",
    "#Weights before adding random noise\n",
    "weights2 = find(clf.coef_[0])[2]\n",
    "print(weights2[:50])"
   ]
  },
  {
   "cell_type": "code",
   "execution_count": 102,
   "metadata": {},
   "outputs": [
    {
     "name": "stdout",
     "output_type": "stream",
     "text": [
      "50\n",
      "0\n"
     ]
    }
   ],
   "source": [
    "print(weights2.size)\n",
    "\n",
    "w_diff=(abs(weights1-weights2) / weights1) * 100\n",
    "\n",
    "print(w_diff[np.where(w_diff > 30)].size)\n"
   ]
  },
  {
   "cell_type": "markdown",
   "metadata": {},
   "source": [
    "Observations:\n",
    "  For AvgW2V there are 0 features whose weight is greater than 30 hence there is no multicollinearity"
   ]
  },
  {
   "cell_type": "markdown",
   "metadata": {},
   "source": [
    "# Weighted TfIdf W2Vec"
   ]
  },
  {
   "cell_type": "code",
   "execution_count": 103,
   "metadata": {
    "collapsed": true
   },
   "outputs": [],
   "source": [
    "model = TfidfVectorizer()\n",
    "tf_idf_matrix = model.fit_transform(final_d['CleanedText'].values)\n",
    "# we are converting a dictionary with word as a key, and the idf as a value\n",
    "dictionary = dict(zip(model.get_feature_names(), list(model.idf_)))"
   ]
  },
  {
   "cell_type": "code",
   "execution_count": 104,
   "metadata": {},
   "outputs": [
    {
     "data": {
      "text/plain": [
       "(100000,)"
      ]
     },
     "execution_count": 104,
     "metadata": {},
     "output_type": "execute_result"
    }
   ],
   "source": [
    "X=final_d[\"CleanedText\"]\n",
    "X.shape"
   ]
  },
  {
   "cell_type": "code",
   "execution_count": 105,
   "metadata": {},
   "outputs": [
    {
     "data": {
      "text/plain": [
       "(100000,)"
      ]
     },
     "execution_count": 105,
     "metadata": {},
     "output_type": "execute_result"
    }
   ],
   "source": [
    "y=final_d[\"Score\"]\n",
    "y.shape"
   ]
  },
  {
   "cell_type": "code",
   "execution_count": 106,
   "metadata": {
    "collapsed": true
   },
   "outputs": [],
   "source": [
    "X_train,X_test,Y_train,Y_test=train_test_split(X,y,test_size=0.30,random_state=None, shuffle=False)\n",
    "#split train into cross val train and cross val test\n",
    "X_t,X_cv,Y_t,Y_cv=train_test_split(X_train,Y_train,test_size=0.3,random_state=None, shuffle=False)"
   ]
  },
  {
   "cell_type": "code",
   "execution_count": 107,
   "metadata": {
    "collapsed": true
   },
   "outputs": [],
   "source": [
    "X_train = model.fit_transform(X_train)\n",
    "X_test = model.transform(X_test)"
   ]
  },
  {
   "cell_type": "code",
   "execution_count": 108,
   "metadata": {
    "collapsed": true
   },
   "outputs": [],
   "source": [
    "X_train=preprocessing.normalize(X_train)\n",
    "X_test=preprocessing.normalize(X_test)"
   ]
  },
  {
   "cell_type": "code",
   "execution_count": 109,
   "metadata": {
    "collapsed": true
   },
   "outputs": [],
   "source": [
    "savetofile(model,\"D:/Applied AI Course/model\")"
   ]
  },
  {
   "cell_type": "code",
   "execution_count": 110,
   "metadata": {},
   "outputs": [
    {
     "name": "stderr",
     "output_type": "stream",
     "text": [
      "100%|██████████████████████████████████| 70000/70000 [00:28<00:00, 2469.24it/s]\n"
     ]
    }
   ],
   "source": [
    "tfidf_feat = model.get_feature_names() # tfidf words/col-names\n",
    "# final_tf_idf is the sparse matrix with row= sentence, col=word and cell_val = tfidf\n",
    "\n",
    "tfidf_sent_vectors = []; # the tfidf-w2v for each sentence/review is stored in this list\n",
    "row=0;\n",
    "for sent in tqdm(list_of_sentence): # for each review/sentence \n",
    "    sent_vec = np.zeros(50) # as word vectors are of zero length\n",
    "    weight_sum =0; # num of words with a valid vector in the sentence/review\n",
    "    for word in sent: # for each word in a review/sentence\n",
    "        try:\n",
    "            vec = W2V_Tr.wv[word]\n",
    "#             tf_idf = tf_idf_matrix[row, tfidf_feat.index(word)]\n",
    "            # to reduce the computation we are \n",
    "            # dictionary[word] = idf value of word in whole courpus\n",
    "            # sent.count(word) = tf valeus of word in this review\n",
    "            tf_idf = dictionary[word]*sent.count(word)\n",
    "            sent_vec += (vec * tf_idf)\n",
    "            weight_sum += tf_idf\n",
    "        except:\n",
    "            pass\n",
    "        \n",
    "    if weight_sum != 0:\n",
    "        sent_vec /= weight_sum\n",
    "    tfidf_sent_vectors.append(sent_vec)\n",
    "    row += 1"
   ]
  },
  {
   "cell_type": "code",
   "execution_count": 111,
   "metadata": {},
   "outputs": [
    {
     "name": "stderr",
     "output_type": "stream",
     "text": [
      "100%|██████████████████████████████████| 30000/30000 [00:12<00:00, 2408.51it/s]\n"
     ]
    }
   ],
   "source": [
    "tfidf_feat = model.get_feature_names() # tfidf words/col-names\n",
    "# final_tf_idf is the sparse matrix with row= sentence, col=word and cell_val = tfidf\n",
    "\n",
    "tfidf_sent_vectors_test = []; # the tfidf-w2v for each sentence/review is stored in this list\n",
    "row=0;\n",
    "for sent in tqdm(list_of_sentences): # for each review/sentence \n",
    "    sent_vec = np.zeros(50) # as word vectors are of zero length\n",
    "    weight_sum =0; # num of words with a valid vector in the sentence/review\n",
    "    for word in sent: # for each word in a review/sentence\n",
    "        try:\n",
    "            vec = W2V_Tr.wv[word]\n",
    "            tf_idf = dictionary[word]*sent.count(word)\n",
    "            sent_vec += (vec * tf_idf)\n",
    "            weight_sum += tf_idf    \n",
    "        except:\n",
    "            pass\n",
    "            \n",
    "#             tf_idf = tf_idf_matrix[row, tfidf_feat.index(word)]\n",
    "            # to reduce the computation we are \n",
    "            # dictionary[word] = idf value of word in whole courpus\n",
    "            # sent.count(word) = tf valeus of word in this review\n",
    "            \n",
    "    if weight_sum != 0:\n",
    "        sent_vec /= weight_sum\n",
    "    tfidf_sent_vectors_test.append(sent_vec)\n",
    "    row += 1"
   ]
  },
  {
   "cell_type": "code",
   "execution_count": 112,
   "metadata": {
    "collapsed": true
   },
   "outputs": [],
   "source": [
    "X_train=np.array(tfidf_sent_vectors)\n",
    "X_test=np.array(tfidf_sent_vectors_test)"
   ]
  },
  {
   "cell_type": "code",
   "execution_count": 113,
   "metadata": {},
   "outputs": [
    {
     "name": "stdout",
     "output_type": "stream",
     "text": [
      "(6370, 50) (6363, 50)\n",
      "(12733, 50) (6363, 50)\n",
      "(19096, 50) (6363, 50)\n",
      "(25459, 50) (6363, 50)\n",
      "(31822, 50) (6363, 50)\n",
      "(38185, 50) (6363, 50)\n",
      "(44548, 50) (6363, 50)\n",
      "(50911, 50) (6363, 50)\n",
      "(57274, 50) (6363, 50)\n",
      "(63637, 50) (6363, 50)\n"
     ]
    }
   ],
   "source": [
    "tcv=TimeSeriesSplit(n_splits=10)\n",
    "for train,cv in tcv.split(X_train):\n",
    "    print(X_train[train].shape,X_train[cv].shape)"
   ]
  },
  {
   "cell_type": "markdown",
   "metadata": {},
   "source": [
    "# Hyperparameter selection using GridSearchCV"
   ]
  },
  {
   "cell_type": "code",
   "execution_count": 114,
   "metadata": {},
   "outputs": [
    {
     "name": "stdout",
     "output_type": "stream",
     "text": [
      "Wall time: 0 ns\n",
      "Fitting 10 folds for each of 30 candidates, totalling 300 fits\n"
     ]
    },
    {
     "name": "stderr",
     "output_type": "stream",
     "text": [
      "[Parallel(n_jobs=1)]: Done 300 out of 300 | elapsed: 12.7min finished\n"
     ]
    },
    {
     "name": "stdout",
     "output_type": "stream",
     "text": [
      "Best HyperParameter:  {'C': 0.5, 'penalty': 'l2'}\n",
      "Best Accuracy: 71.08%\n"
     ]
    }
   ],
   "source": [
    "%time\n",
    "from sklearn.model_selection import GridSearchCV\n",
    "from sklearn.linear_model import LogisticRegression\n",
    "\n",
    "clf = LogisticRegression()\n",
    "\n",
    "#params we need to try on classifier\n",
    "param_grid = {'C':[1000,500,100,50,10,5,1,0.5,0.1,0.05,0.01,0.005,0.001,0.0005,0.0001],\n",
    "             'penalty':['l1','l2']} \n",
    "tscv = TimeSeriesSplit(n_splits=10) #For time based splitting\n",
    "gsv_tfidfw2v = GridSearchCV(clf,param_grid,cv=tscv,verbose=1)\n",
    "gsv_tfidfw2v.fit(X_train,Y_train)\n",
    "savetofile(gsv_tfidfw2v,\"D:/Applied AI Course/gsv_tfidfw2v\")\n",
    "print(\"Best HyperParameter: \",gsv_tfidfw2v.best_params_)\n",
    "print(\"Best Accuracy: %.2f%%\"%(gsv_tfidfw2v.best_score_*100))"
   ]
  },
  {
   "cell_type": "code",
   "execution_count": 115,
   "metadata": {
    "collapsed": true
   },
   "outputs": [],
   "source": [
    "def plot_error_vs_c(gsv):\n",
    "    x1=[]\n",
    "    y1=[]\n",
    "    x2=[]\n",
    "    y2=[]\n",
    "    for a in gsv.grid_scores_:\n",
    "        if (a[0]['penalty']) =='l1':\n",
    "            y1.append(1-a[1])\n",
    "            x1.append(a[0]['C'])\n",
    "        else:\n",
    "            y2.append(1-a[1])\n",
    "            x2.append(a[0]['C'])\n",
    "    plt.xlim(5,1010)\n",
    "    plt.ylim(0,0.5)\n",
    "    plt.xlabel(\"C\",fontsize=15)\n",
    "    plt.ylabel(\"Misclassification Error\")\n",
    "    plt.title('Misclassification Error v/s C')\n",
    "    plt.plot(x1,y1,'b',label=\"L1\")\n",
    "    plt.plot(x2,y2,'r',label=\"L2\")\n",
    "    plt.legend()\n",
    "    plt.show()"
   ]
  },
  {
   "cell_type": "code",
   "execution_count": 116,
   "metadata": {},
   "outputs": [
    {
     "name": "stderr",
     "output_type": "stream",
     "text": [
      "D:\\Anaconda\\lib\\site-packages\\sklearn\\model_selection\\_search.py:762: DeprecationWarning: The grid_scores_ attribute was deprecated in version 0.18 in favor of the more elaborate cv_results_ attribute. The grid_scores_ attribute will not be available from 0.20\n",
      "  DeprecationWarning)\n"
     ]
    },
    {
     "data": {
      "image/png": "[encoded data removed]",
      "text/plain": [
       "<Figure size 432x288 with 1 Axes>"
      ]
     },
     "metadata": {},
     "output_type": "display_data"
    }
   ],
   "source": [
    "plot_error_vs_c(gsv_tfidfw2v)"
   ]
  },
  {
   "cell_type": "code",
   "execution_count": 117,
   "metadata": {},
   "outputs": [
    {
     "name": "stdout",
     "output_type": "stream",
     "text": [
      "Accuracy on test set: 71.173%\n",
      "Non Zero weights: 50\n"
     ]
    }
   ],
   "source": [
    "clf=LogisticRegression(C=50, penalty='l1')\n",
    "clf.fit(X_train, Y_train)\n",
    "pred=clf.predict(X_test)\n",
    "print(\"Accuracy on test set: %0.3f%%\"%(accuracy_score(Y_test, pred)*100))\n",
    "print(\"Non Zero weights:\",np.count_nonzero(clf.coef_))\n",
    "training_accuracy = clf.score(X_train, Y_train)\n",
    "training_error_tfidfw2v_gcv = 1 - training_accuracy\n",
    "test_accuracy = accuracy_score(Y_test, pred)\n",
    "test_error_tfidfw2v_gcv = 1 - test_accuracy"
   ]
  },
  {
   "cell_type": "markdown",
   "metadata": {},
   "source": [
    "# ConfusionMatrix"
   ]
  },
  {
   "cell_type": "code",
   "execution_count": 118,
   "metadata": {},
   "outputs": [
    {
     "data": {
      "text/plain": [
       "<matplotlib.axes._subplots.AxesSubplot at 0x3a82d518>"
      ]
     },
     "execution_count": 118,
     "metadata": {},
     "output_type": "execute_result"
    },
    {
     "data": {
      "image/png": "[encoded data removed]",
      "text/plain": [
       "<Figure size 432x288 with 2 Axes>"
      ]
     },
     "metadata": {},
     "output_type": "display_data"
    }
   ],
   "source": [
    "conf_matr_df = pd.DataFrame(confusion_matrix(Y_test, pred), range(2),range(2))\n",
    "sns.set(font_scale=1.4)#for label size\n",
    "sns.heatmap(conf_matr_df, annot=True,annot_kws={\"size\": 16}, fmt='g')"
   ]
  },
  {
   "cell_type": "code",
   "execution_count": 119,
   "metadata": {},
   "outputs": [
    {
     "name": "stdout",
     "output_type": "stream",
     "text": [
      "             precision    recall  f1-score   support\n",
      "\n",
      "   Negative       0.88      0.89      0.89     15916\n",
      "   Positive       0.87      0.87      0.87     14084\n",
      "\n",
      "avg / total       0.88      0.88      0.88     30000\n",
      "\n"
     ]
    }
   ],
   "source": [
    "from sklearn.metrics import classification_report,precision_score,recall_score\n",
    "\n",
    "print(classification_report(Y_test,y_pred))"
   ]
  },
  {
   "cell_type": "markdown",
   "metadata": {},
   "source": [
    "# RandomizedCV"
   ]
  },
  {
   "cell_type": "code",
   "execution_count": 120,
   "metadata": {},
   "outputs": [
    {
     "name": "stdout",
     "output_type": "stream",
     "text": [
      "Wall time: 0 ns\n",
      "Fitting 10 folds for each of 10 candidates, totalling 100 fits\n"
     ]
    },
    {
     "name": "stderr",
     "output_type": "stream",
     "text": [
      "[Parallel(n_jobs=1)]: Done 100 out of 100 | elapsed:  3.5min finished\n"
     ]
    },
    {
     "name": "stdout",
     "output_type": "stream",
     "text": [
      "Best HyperParameter:  {'penalty': 'l2', 'C': 1}\n",
      "Best Accuracy: 71.07%\n"
     ]
    }
   ],
   "source": [
    "%time\n",
    "from sklearn.model_selection import RandomizedSearchCV\n",
    "from sklearn.linear_model import LogisticRegression\n",
    "\n",
    "clf = LogisticRegression()\n",
    "\n",
    "#params we need to try on classifier\n",
    "param_grid = {'C':[1000,500,100,50,10,5,1,0.5,0.1,0.05,0.01,0.005,0.001,0.0005,0.0001],\n",
    "             'penalty':['l1','l2']} \n",
    "tscv = TimeSeriesSplit(n_splits=10) #For time based splitting\n",
    "rcv_tfidfw2v = RandomizedSearchCV(clf,param_grid,cv=tscv,verbose=1)\n",
    "rcv_tfidfw2v.fit(X_train,Y_train)\n",
    "savetofile(rcv_tfidfw2v,\"D:/Applied AI Course/rcv_tfidfw2v\")\n",
    "print(\"Best HyperParameter: \",rcv_tfidfw2v.best_params_)\n",
    "print(\"Best Accuracy: %.2f%%\"%(rcv_tfidfw2v.best_score_*100))"
   ]
  },
  {
   "cell_type": "code",
   "execution_count": 121,
   "metadata": {
    "collapsed": true
   },
   "outputs": [],
   "source": [
    "def plot_error_vs_c(gsv):\n",
    "    x1=[]\n",
    "    y1=[]\n",
    "    x2=[]\n",
    "    y2=[]\n",
    "    for a in gsv.grid_scores_:\n",
    "        if (a[0]['penalty']) =='l1':\n",
    "            y1.append(1-a[1])\n",
    "            x1.append(a[0]['C'])\n",
    "        else:\n",
    "            y2.append(1-a[1])\n",
    "            x2.append(a[0]['C'])\n",
    "    plt.xlim(5,1010)\n",
    "    plt.ylim(0,0.5)\n",
    "    plt.xlabel(\"C\",fontsize=15)\n",
    "    plt.ylabel(\"Misclassification Error\")\n",
    "    plt.title('Misclassification Error v/s C')\n",
    "    plt.plot(x1,y1,'b',label=\"L1\")\n",
    "    plt.plot(x2,y2,'r',label=\"L2\")\n",
    "    plt.legend()\n",
    "    plt.show()"
   ]
  },
  {
   "cell_type": "code",
   "execution_count": 122,
   "metadata": {},
   "outputs": [
    {
     "name": "stderr",
     "output_type": "stream",
     "text": [
      "D:\\Anaconda\\lib\\site-packages\\sklearn\\model_selection\\_search.py:762: DeprecationWarning: The grid_scores_ attribute was deprecated in version 0.18 in favor of the more elaborate cv_results_ attribute. The grid_scores_ attribute will not be available from 0.20\n",
      "  DeprecationWarning)\n"
     ]
    },
    {
     "data": {
      "image/png": "[encoded data removed]",
      "text/plain": [
       "<Figure size 432x288 with 1 Axes>"
      ]
     },
     "metadata": {},
     "output_type": "display_data"
    }
   ],
   "source": [
    "plot_error_vs_c(rcv_tfidfw2v)"
   ]
  },
  {
   "cell_type": "code",
   "execution_count": 123,
   "metadata": {},
   "outputs": [
    {
     "name": "stdout",
     "output_type": "stream",
     "text": [
      "Accuracy on test set: 71.170%\n",
      "Non Zero weights: 50\n"
     ]
    }
   ],
   "source": [
    "clf=LogisticRegression(C=1000, penalty='l1')\n",
    "clf.fit(X_train, Y_train)\n",
    "pred=clf.predict(X_test)\n",
    "print(\"Accuracy on test set: %0.3f%%\"%(accuracy_score(Y_test, pred)*100))\n",
    "print(\"Non Zero weights:\",np.count_nonzero(clf.coef_))\n",
    "training_accuracy = clf.score(X_train, Y_train)\n",
    "training_error_tfidfw2v_rcv = 1 - training_accuracy\n",
    "test_accuracy = accuracy_score(Y_test, pred)\n",
    "test_error_tfidfw2v_rcv = 1 - test_accuracy"
   ]
  },
  {
   "cell_type": "markdown",
   "metadata": {},
   "source": [
    "# Confusion matrix"
   ]
  },
  {
   "cell_type": "code",
   "execution_count": 124,
   "metadata": {},
   "outputs": [
    {
     "data": {
      "text/plain": [
       "<matplotlib.axes._subplots.AxesSubplot at 0x3a60d160>"
      ]
     },
     "execution_count": 124,
     "metadata": {},
     "output_type": "execute_result"
    },
    {
     "data": {
      "image/png": "[encoded data removed]",
      "text/plain": [
       "<Figure size 432x288 with 2 Axes>"
      ]
     },
     "metadata": {},
     "output_type": "display_data"
    }
   ],
   "source": [
    "conf_matr_df = pd.DataFrame(confusion_matrix(Y_test, pred), range(2),range(2))\n",
    "sns.set(font_scale=1.4)#for label size\n",
    "sns.heatmap(conf_matr_df, annot=True,annot_kws={\"size\": 16}, fmt='g')"
   ]
  },
  {
   "cell_type": "code",
   "execution_count": 125,
   "metadata": {},
   "outputs": [
    {
     "name": "stdout",
     "output_type": "stream",
     "text": [
      "             precision    recall  f1-score   support\n",
      "\n",
      "   Negative       0.74      0.70      0.72     15916\n",
      "   Positive       0.68      0.73      0.70     14084\n",
      "\n",
      "avg / total       0.71      0.71      0.71     30000\n",
      "\n"
     ]
    }
   ],
   "source": [
    "from sklearn.metrics import classification_report,precision_score,recall_score\n",
    "\n",
    "print(classification_report(Y_test,pred))"
   ]
  },
  {
   "cell_type": "markdown",
   "metadata": {},
   "source": [
    "# Perturbation test "
   ]
  },
  {
   "cell_type": "code",
   "execution_count": 126,
   "metadata": {},
   "outputs": [
    {
     "name": "stdout",
     "output_type": "stream",
     "text": [
      "Accuracy on test set: 71.173%\n",
      "Non Zero weights: 50\n"
     ]
    }
   ],
   "source": [
    "clf=LogisticRegression(C=50, penalty='l1')\n",
    "clf.fit(X_train, Y_train)\n",
    "pred=clf.predict(X_test)\n",
    "print(\"Accuracy on test set: %0.3f%%\"%(accuracy_score(Y_test, pred)*100))\n",
    "print(\"Non Zero weights:\",np.count_nonzero(clf.coef_))"
   ]
  },
  {
   "cell_type": "code",
   "execution_count": 127,
   "metadata": {},
   "outputs": [
    {
     "name": "stdout",
     "output_type": "stream",
     "text": [
      "[ 0.3922859   0.17647665 -0.31962992 -0.15680467 -0.29118056 -0.75469056\n",
      " -0.63037629  0.17852943 -0.07449325  0.52505246 -0.66808791  0.19181855\n",
      "  0.22607817  0.01190473 -0.17406158  0.90362106 -0.91852076  0.1789419\n",
      "  0.49139432  0.02384252 -1.02480475  0.1281986   0.27301226 -0.72921535\n",
      "  0.51335895 -0.81936962 -0.15461104 -0.2241672   0.06173484  0.75018639\n",
      "  0.58986491 -0.42933448 -0.03441005  0.43158596  0.38491749  0.31304216\n",
      "  0.29512033  0.07290084  0.00707572 -1.01992877  0.23388793  0.48337678\n",
      " -0.59036309 -0.65015303 -0.40407653 -0.34095102  0.11902002 -0.14396864\n",
      " -0.52592214 -0.20862359]\n"
     ]
    }
   ],
   "source": [
    "#weight before adding random noise\n",
    "from scipy.sparse import find\n",
    "#Weights before adding random noise\n",
    "weights1 = find(clf.coef_[0])[2]\n",
    "print(weights1[:50])"
   ]
  },
  {
   "cell_type": "code",
   "execution_count": 128,
   "metadata": {},
   "outputs": [
    {
     "name": "stdout",
     "output_type": "stream",
     "text": [
      "(70000, 50)\n"
     ]
    }
   ],
   "source": [
    "#insert random noise\n",
    "X_train_t = X_train\n",
    "#Random noise\n",
    "z = np.random.uniform(low=-0.0001, high=0.0001, size=(find(X_train_t)[0].size,))\n",
    "#Getting the postions(row and column) and value of non-zero datapoints \n",
    "r,c,v = find(X_train_t)\n",
    "\n",
    "#Introducing random noise to non-zero datapoints\n",
    "X_train_t[r,c] = z + X_train_t[r,c]\n",
    "\n",
    "print(X_train_t.shape)"
   ]
  },
  {
   "cell_type": "code",
   "execution_count": 129,
   "metadata": {},
   "outputs": [
    {
     "name": "stdout",
     "output_type": "stream",
     "text": [
      "Accuracy on test set: 71.173%\n",
      "Non Zero weights: 50\n"
     ]
    }
   ],
   "source": [
    "clf=LogisticRegression(C=50, penalty='l1')\n",
    "clf.fit(X_train_t, Y_train)\n",
    "pred=clf.predict(X_test)\n",
    "print(\"Accuracy on test set: %0.3f%%\"%(accuracy_score(Y_test, pred)*100))\n",
    "print(\"Non Zero weights:\",np.count_nonzero(clf.coef_))"
   ]
  },
  {
   "cell_type": "code",
   "execution_count": 130,
   "metadata": {},
   "outputs": [
    {
     "name": "stdout",
     "output_type": "stream",
     "text": [
      "[ 0.39224849  0.17647089 -0.31969236 -0.15671782 -0.29107267 -0.75474185\n",
      " -0.63044625  0.17852163 -0.07452251  0.52519906 -0.66806719  0.19180711\n",
      "  0.22603546  0.0118319  -0.17418277  0.90360444 -0.91862865  0.178994\n",
      "  0.49146357  0.02391817 -1.0248276   0.1282408   0.27299366 -0.72933172\n",
      "  0.51345062 -0.81952417 -0.15461125 -0.2240491   0.06180344  0.75018581\n",
      "  0.58988674 -0.4293049  -0.03430604  0.43156047  0.38495254  0.31308421\n",
      "  0.29517333  0.07295862  0.00710917 -1.01998219  0.23385943  0.48340951\n",
      " -0.59040188 -0.65014085 -0.40404553 -0.34097297  0.11897915 -0.14387591\n",
      " -0.52595078 -0.20852026]\n"
     ]
    }
   ],
   "source": [
    "#weight after adding random noise\n",
    "from scipy.sparse import find\n",
    "#Weights before adding random noise\n",
    "weights2 = find(clf.coef_[0])[2]\n",
    "print(weights2[:50])"
   ]
  },
  {
   "cell_type": "code",
   "execution_count": 131,
   "metadata": {},
   "outputs": [
    {
     "name": "stdout",
     "output_type": "stream",
     "text": [
      "50\n",
      "0\n"
     ]
    }
   ],
   "source": [
    "print(weights2.size)\n",
    "\n",
    "w_diff=(abs(weights1-weights2) / weights1) * 100\n",
    "\n",
    "print(w_diff[np.where(w_diff > 30)].size)"
   ]
  },
  {
   "cell_type": "markdown",
   "metadata": {},
   "source": [
    "Conclusion:  0 features have their weights less thank 30"
   ]
  },
  {
   "cell_type": "markdown",
   "metadata": {},
   "source": [
    "# Summary"
   ]
  },
  {
   "cell_type": "code",
   "execution_count": 134,
   "metadata": {},
   "outputs": [
    {
     "name": "stdout",
     "output_type": "stream",
     "text": [
      "+------------+-----------------------------+-------------+-------------+\n",
      "|   Model    |    Hyperparameter(Alpha)    | Train error |  Test Error |\n",
      "+------------+-----------------------------+-------------+-------------+\n",
      "|    BoW     |  {'C': 5, 'penalty': 'l2'}  |    0.094    |    0.122    |\n",
      "|    BoW     |  {'penalty': 'l2', 'C': 10} |    0.094    |    0.122    |\n",
      "|   Tfidf    |  {'C': 5, 'penalty': 'l2'}  |    0.098    |    0.122    |\n",
      "|   Tfidf    |  {'penalty': 'l2', 'C': 5}  |    0.077    |    0.123    |\n",
      "|  AvgW2Vec  | {'C': 100, 'penalty': 'l2'} |    0.202    |    0.153    |\n",
      "|  AvgW2Vec  | {'penalty': 'l2', 'C': 500} |    0.202    |    0.199    |\n",
      "| TfidfW2Vec | {'C': 0.5, 'penalty': 'l2'} |    0.282    |    0.288    |\n",
      "| TfidfW2Vec |  {'penalty': 'l2', 'C': 1}  |    0.282    |    0.288    |\n",
      "+------------+-----------------------------+-------------+-------------+\n"
     ]
    }
   ],
   "source": [
    "from prettytable import PrettyTable\n",
    "\n",
    "pr=PrettyTable()\n",
    "tr=np.round(training_error,3)\n",
    "te=np.round(test_error,3)\n",
    "tr1=np.round(training_error_rcv,3)\n",
    "te1=np.round(test_error_rcv,3)\n",
    "tr2=np.round(training_error_tfidf, 3)\n",
    "te2=np.round(test_error_tfidf, 3)\n",
    "tr3=np.round(training_error_tfidf_rcv, 3)\n",
    "te3=np.round(test_error_tfidf_rcv, 3)\n",
    "tr4=np.round(training_error_avgw2v_gcv, 3)\n",
    "te4=np.round(test_error_avgw2v_gcv, 3)\n",
    "tr5=np.round(training_error_avgw2v_rcv, 3)\n",
    "te5=np.round(test_error_avgw2v_rcv, 3)\n",
    "tr6=np.round(training_error_tfidfw2v_gcv, 3)\n",
    "te6=np.round(test_error_tfidfw2v_gcv, 3)\n",
    "tr7=np.round(training_error_tfidfw2v_rcv, 3)\n",
    "te7=np.round(test_error_tfidfw2v_rcv, 3)\n",
    "#tr1=np.round(training_error_tf,2)\n",
    "#te1=np.round(test_error_tf,2)\n",
    "pr.field_names=[\"Model\", \"Hyperparameter(Alpha)\", \"Train error\",\" Test Error\"]\n",
    "pr.add_row([\"BoW\",gcv.best_params_,tr,te])\n",
    "pr.add_row([\"BoW\",rcv.best_params_,tr1,te1])\n",
    "pr.add_row([\"Tfidf\",gsv_tfidf.best_params_,tr2,te2])\n",
    "pr.add_row([\"Tfidf\",rcv_tfidf.best_params_,tr3,te3])\n",
    "pr.add_row([\"AvgW2Vec\",gsv_avgw2v.best_params_,tr4,te4])\n",
    "pr.add_row([\"AvgW2Vec\",rcv_avgw2v.best_params_,tr5,te5])\n",
    "pr.add_row([\"TfidfW2Vec\",gsv_tfidfw2v.best_params_,tr6,te6])\n",
    "pr.add_row([\"TfidfW2Vec\",rcv_tfidfw2v.best_params_,tr7,te7])\n",
    "\n",
    "\n",
    "#pr.add_row([\"TFIDF\",hyp2,tr1,te1])\n",
    "#pr.add_row([\"(Bernoulli Tfidf)\",btf_optimal_alpha,np.round(training_error_tfidf,3),np.round(test_error_tfidf,3)])\n",
    "#pr.add_row([\"AvgWord2Vec\",aw2v_optimal_alpha,np.round(training_error_aw2v,3),np.round(test_error_aw2v,3)])\n",
    "#pr.add_row([\"Weighted TFIDF Word2Vec\",tfw2v_optimal_alpha,np.round(training_error_tfw2v,3),np.round(test_error_tfw2v,3)])\n",
    "print(pr)"
   ]
  },
  {
   "cell_type": "code",
   "execution_count": null,
   "metadata": {
    "collapsed": true
   },
   "outputs": [],
   "source": []
  }
 ],
 "metadata": {
  "kernelspec": {
   "display_name": "Python 3",
   "language": "python",
   "name": "python3"
  },
  "language_info": {
   "codemirror_mode": {
    "name": "ipython",
    "version": 3
   },
   "file_extension": ".py",
   "mimetype": "text/x-python",
   "name": "python",
   "nbconvert_exporter": "python",
   "pygments_lexer": "ipython3",
   "version": "3.6.3"
  }
 },
 "nbformat": 4,
 "nbformat_minor": 2
}
